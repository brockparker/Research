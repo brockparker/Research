{
 "cells": [
  {
   "cell_type": "markdown",
   "id": "507616c6",
   "metadata": {},
   "source": [
    "# Python for Astronomers - Day 1"
   ]
  },
  {
   "cell_type": "markdown",
   "id": "5ca3f45a",
   "metadata": {},
   "source": [
    "This is written for the 2023 University of Wyoming Astronomy REU. In general, this tutorial will cover:\n",
    "\n",
    "### Day 1\n",
    "\n",
    "0. Intro to Python\n",
    "    - Installation\n",
    "    - Jupyter Notebook\n",
    "1. Python Basics\n",
    "    - Variables\n",
    "    - Modules\n",
    "    - Statements\n",
    "    - Loops\n",
    "    - Functions\n",
    "2. Numpy\n",
    "    - Arrays\n",
    "    - Matrix Operations\n",
    "    \n",
    "### Day 2\n",
    "    \n",
    "3. Plotting\n",
    "    - Functions\n",
    "    - Data\n",
    "    - Subplots\n",
    "4. File Handling\n",
    "    - CSV\n",
    "    - FITS\n",
    "5. Other Packages\n",
    "    - Astropy\n",
    "        - Units\n",
    "        - Coordinates\n",
    "    - Scipy\n",
    "        - Fitting\n",
    "        "
   ]
  },
  {
   "cell_type": "markdown",
   "id": "de592520",
   "metadata": {},
   "source": [
    "# This is an introduction to Python for astronomers (Yes, you!)\n",
    "\n",
    "## A brief history of Python\n",
    "\n",
    "Python was invented by Guido van Rossum in late 80s. Python is an open-source programming language and it has three generations, Python 1, 2, and 3. Python 3 is the most recent version, and is the only one currently supported and recommended by the Python foundation. There are many fundamental differences between Python 2 and 3, so if you are using Python 2, think twice and turn away! \n",
    "\n",
    "Python is a __dynamically-typed, interpreted, Object-Oriented__ general-purpose programming language. Dynamically-typed means the type of an object is assigned during runtime of the program. Interpreted means Python is executed with the help of another program: an interpreter. The interpreter translates lines of python code into another machine language (assembly) that a computer can understand and execute. Object is constructed from `class`, which holds code and data. The object-oriented part of python is because most of the data in Python are stored as an object (even as simple as a number). \n",
    "\n",
    "Bonus: why does Python logo look like this one? the python ecosystem? \n",
    "\n",
    "## Features of python\n",
    "\n",
    "Python is very versatile and can achieve almost all programming tasks desired by scientists and engineers, if performance and security are not concerns. Python has been widely used in astronomy for data reduction, analysis, plotting, and more. In this tutorial, I will talk about the basic features and functionality of python but moreover my intention is to help you understand the big picture of programming: read other people's code, read documents of modules, code your tasks, debug them, and communicate your code and results with your peers.\n",
    "\n",
    "Let's dive in!\n",
    "\n",
    "## Python interactive shell\n",
    "\n",
    "An python interpreter should have been installed on all department computers, and the default version is `3.6.13`. It is good for now. \n",
    "We will come back later and talk about how to manage your environment and switch between different versions of python. We can check python version and start python interactive shell or **REPL** (Read, Evaluate, Print, Loop) by \n",
    "\n",
    "```shell\n",
    "[brook@shoshone ~]$ bash\n",
    "(base) bash-4.4$ python --version\n",
    "Python 3.9.12 :: Anaconda, Inc.\n",
    "(base) bash-4.4$ python\n",
    "Python 3.9.12 (main, Apr 5 2022, 06:56:58)\n",
    "[GCC 7.5.0] :: Anaconda, Inc. on linux\n",
    "Type \"help\", \"copyright\", \"credits\" or \"license\" for more information.\n",
    ">>>\n",
    "```\n",
    "This is the starting point of using Python. Note that the default shell for our department is csh, so we have to type `bash` to change to bash shell. We can now type commands to do some simple tasks.\n",
    "\n",
    "```python\n",
    ">>> print(\"hello, world!\")\n",
    "hello, world!\n",
    ">>> a = 100\n",
    ">>> print(a)\n",
    "100\n",
    ">>> c = 2\n",
    ">>> a + c\n",
    "102\n",
    ">>>\n",
    "```\n",
    "\n",
    "To exit the python REPL, we need to use `exit()` or hit `ctrl + D`. If your programming task is simple, you can just use the python REPL as a super TI-89 scientific calculator. However, the programming task is often very complex, and cannot be achieved with just a few lines of code. We then need a file to store all the commands. This file is python script, whose file name suffix is `.py`. Let's put the commands above into a file called `test.py`\n",
    "\n",
    "```shell\n",
    "gedit test.py &\n",
    "```\n",
    "\n",
    "```python\n",
    "print(\"hello, world!\")\n",
    "a = 100\n",
    "print(a)\n",
    "c = 2\n",
    "a + c\n",
    "```\n",
    "\n",
    "The python script can be run with\n",
    "\n",
    "```bash\n",
    "(base) bash-4.4$ python test.py\n",
    "hello, world!\n",
    "100\n",
    "```\n",
    "\n",
    "Wait, it looks like we are missing something in the result? Why was it missing? \n",
    "\n",
    "The python REPL is an interactive shell environment, just as the name indicates, will print the result automatically if there is no assignment, etc. That is a very useful feature if we want to explore some new data set and check the result.\n",
    "Sometimes, we want to take advantage of the interactive feature of the python REPL, and also save the commands for future use. What should we use? \n",
    "\n",
    "(Jupyter notebook!)\n",
    "\n",
    "\n"
   ]
  },
  {
   "cell_type": "markdown",
   "id": "2a4bdf48",
   "metadata": {},
   "source": [
    "# Introduction to Jupyter notebook\n",
    "\n",
    "Jupyter notebook is one of the products in Project Jupyter. The Jupyter name stands for three core programming languages it supported (Julia, Python, and R). Jupyter notebook is data scientist's favourite tool because of its interactive and clear Graphical User Interface (GUI). It is designed based on IPython Notebook. Let's explore some features of Jupyter. \n",
    "\n",
    "## Starting Jupyter\n",
    "\n",
    "Jupyter is installed on the department machines. Usually, there are two ways to use jupyter, jupyter notebook and jupyter lab. Jupyter lab is recommended and supported by the Jupyter development team. However, we will stick with jupyter notebook for our training purpose. To start the jupyter notebook\n",
    "\n",
    "```bash\n",
    "(base) bash-4.4$ jupyter-notebook\n",
    "```\n",
    "\n",
    "## Some basic Jupyter commands\n",
    "\n",
    "The control bar contains some very useful tools. We can save notebook, add, edit, merge \"cells\" \n",
    "\n",
    "Cell is a very important component of Jupyter notebook. Each cell is independent of each other, but is also connected. Cell is independent in the sense that a single cell contains some chunk code that we can execute without touching any other cell.\n",
    "Cells are also connected because they share the same variables and modules with each other (ie. one cell declare a variable, and then you can use this variable from other cell directly). \n",
    "\n",
    "To execute a single cell, you can click `run` button on the control bar, or hit `shift+enter` as a shortcut.  The result will show up directly after each cell. If you want to run all cells sequentially from beginning to the end, you can hit the `fast-forward` button on the control bar. It is a good practice to run all cells at once when you are debugging or finish up your coding task, because some cells might be out of synchronized. In a notebook, you can run multiple cells, but only one cell can be executed by the computer each time and other cells will be waiting in line for previous one to be finished. If we want to stop the cell from running immediately, you can hit the `square` button. \n",
    "\n",
    "Jupyter notebook also supports markdown syntax. If we need to change a cell to markdown, we can press `Esc` and then hit `M`. Note that every time if you hit `Esc`, you will be in the command mode, which allows you to modify the notebook itself instead of the cell content. \n",
    "\n",
    "To save current jupyter notebook, you can hit `ctrl+s`. The jupyter notebook files have suffix `.ipynb` (because Jupyter is based on IPython Notebook). \n",
    "\n",
    "If you are interested in more cool shortcuts, `Help` tab on the control bar will give you more directions to explore. \n",
    "\n",
    "## Switching Kernels\n",
    "\n",
    "Usually, we might want to work with different versions of python or environment because of different sets of packages. We will talk about managing environment and packages further tomorrow. \n",
    "As for now, you can treat Jupyter kernel as a python interpreter, which takes the code in a cell and then execute it. There are different versions of python interpreters, so are the Jupyter kernels. To switch a kernel, hit `Kernel` in the control bar. You can find more information about managing the kernel here: https://docs.jupyter.org/en/latest/install/kernels.html.\n",
    "\n",
    "Managing kernels sometimes can be quite tedious and painful, so my suggestion is to stick with minimal number of kernels. For each environment, install only one kernel. "
   ]
  },
  {
   "cell_type": "markdown",
   "id": "72423fae",
   "metadata": {},
   "source": [
    "\n",
    "# Variables and more in Python!"
   ]
  },
  {
   "cell_type": "markdown",
   "id": "8c9b766d",
   "metadata": {},
   "source": [
    "## Numbers"
   ]
  },
  {
   "cell_type": "code",
   "execution_count": 1,
   "id": "55c797db",
   "metadata": {},
   "outputs": [
    {
     "data": {
      "text/plain": [
       "3"
      ]
     },
     "execution_count": 1,
     "metadata": {},
     "output_type": "execute_result"
    }
   ],
   "source": [
    "2 + 1"
   ]
  },
  {
   "cell_type": "code",
   "execution_count": 2,
   "id": "ac561b8b",
   "metadata": {},
   "outputs": [
    {
     "data": {
      "text/plain": [
       "1"
      ]
     },
     "execution_count": 2,
     "metadata": {},
     "output_type": "execute_result"
    }
   ],
   "source": [
    "2 - 1"
   ]
  },
  {
   "cell_type": "code",
   "execution_count": 3,
   "id": "5fd639ae",
   "metadata": {},
   "outputs": [
    {
     "data": {
      "text/plain": [
       "4"
      ]
     },
     "execution_count": 3,
     "metadata": {},
     "output_type": "execute_result"
    }
   ],
   "source": [
    "2 * 2"
   ]
  },
  {
   "cell_type": "code",
   "execution_count": 4,
   "id": "91e55975",
   "metadata": {},
   "outputs": [
    {
     "data": {
      "text/plain": [
       "2.5"
      ]
     },
     "execution_count": 4,
     "metadata": {},
     "output_type": "execute_result"
    }
   ],
   "source": [
    "5/2\n",
    "5./2."
   ]
  },
  {
   "cell_type": "code",
   "execution_count": 5,
   "id": "577dd281",
   "metadata": {},
   "outputs": [
    {
     "data": {
      "text/plain": [
       "2"
      ]
     },
     "execution_count": 5,
     "metadata": {},
     "output_type": "execute_result"
    }
   ],
   "source": [
    "5//2"
   ]
  },
  {
   "cell_type": "code",
   "execution_count": 6,
   "id": "974bec3e",
   "metadata": {},
   "outputs": [
    {
     "data": {
      "text/plain": [
       "1"
      ]
     },
     "execution_count": 6,
     "metadata": {},
     "output_type": "execute_result"
    }
   ],
   "source": [
    "5%2"
   ]
  },
  {
   "cell_type": "markdown",
   "id": "0fe7945f",
   "metadata": {},
   "source": [
    "## Variables"
   ]
  },
  {
   "cell_type": "markdown",
   "id": "3df7d7bf",
   "metadata": {},
   "source": [
    "The names you use when creating variables need to follow a few rules:\n",
    "\n",
    "    1. Names can not start with a number.\n",
    "    2. There can be no spaces in the name, use _ instead.\n",
    "    3. Can't use any of these symbols :'\",<>/?|\\()!@#$%^&*~-+\n",
    "    4. It's considered best practice (PEP8) that names are lowercase.\n",
    "    5. Avoid using the characters 'l' (lowercase letter el), 'O' (uppercase letter oh), \n",
    "       or 'I' (uppercase letter eye) as single character variable names.\n",
    "    6. Avoid using words that have special meaning in Python like \"list\" and \"str\"\n",
    "\n",
    "\n",
    "Using variable names can be a very useful way to keep track of different variables in Python. For example:"
   ]
  },
  {
   "cell_type": "markdown",
   "id": "619f7726",
   "metadata": {},
   "source": [
    "You can check what type of object is assigned to a variable using Python's built-in `type()` function. Common data types include:\n",
    "* **int** (for integer)\n",
    "* **float**\n",
    "* **str** (for string)\n",
    "* **list**\n",
    "* **tuple**\n",
    "* **dict** (for dictionary)\n",
    "* **set**\n",
    "* **bool** (for Boolean True/False)"
   ]
  },
  {
   "cell_type": "code",
   "execution_count": 7,
   "id": "7427aa2c",
   "metadata": {},
   "outputs": [
    {
     "name": "stdout",
     "output_type": "stream",
     "text": [
      "1.2941999999999996\n"
     ]
    }
   ],
   "source": [
    "# int - this is a comment\n",
    "v0 = 5.1\n",
    "\n",
    "# float\n",
    "g = 9.81\n",
    "\n",
    "t = 0.6\n",
    "t = 6e-1\n",
    "\n",
    "y = (v0 * t) - (0.5 * g * t**2)\n",
    "\n",
    "print(y)"
   ]
  },
  {
   "cell_type": "code",
   "execution_count": 8,
   "id": "dc914fa9",
   "metadata": {},
   "outputs": [
    {
     "data": {
      "text/plain": [
       "float"
      ]
     },
     "execution_count": 8,
     "metadata": {},
     "output_type": "execute_result"
    }
   ],
   "source": [
    "type(v0)"
   ]
  },
  {
   "cell_type": "code",
   "execution_count": 9,
   "id": "0eecb9ab",
   "metadata": {},
   "outputs": [
    {
     "data": {
      "text/plain": [
       "float"
      ]
     },
     "execution_count": 9,
     "metadata": {},
     "output_type": "execute_result"
    }
   ],
   "source": [
    "type(y)"
   ]
  },
  {
   "cell_type": "markdown",
   "id": "e9c2ece9",
   "metadata": {},
   "source": [
    "### Pros and Cons of Dynamic Typing\n",
    "#### Pros of Dynamic Typing\n",
    "* very easy to work with\n",
    "* faster development time\n",
    "\n",
    "#### Cons of Dynamic Typing\n",
    "* may result in unexpected bugs!\n",
    "* you need to be aware of `type()`"
   ]
  },
  {
   "cell_type": "code",
   "execution_count": 10,
   "id": "b3e61b0a",
   "metadata": {},
   "outputs": [
    {
     "name": "stdout",
     "output_type": "stream",
     "text": [
      "[(5, 6), 'is', 'a', 10]\n"
     ]
    }
   ],
   "source": [
    "y = [(5,6), 'is','a',10]\n",
    "\n",
    "print(y)"
   ]
  },
  {
   "cell_type": "code",
   "execution_count": 11,
   "id": "06c56491",
   "metadata": {
    "scrolled": true
   },
   "outputs": [
    {
     "data": {
      "text/plain": [
       "list"
      ]
     },
     "execution_count": 11,
     "metadata": {},
     "output_type": "execute_result"
    }
   ],
   "source": [
    "type(y)"
   ]
  },
  {
   "cell_type": "markdown",
   "id": "6a0d46fd",
   "metadata": {},
   "source": [
    "## Modules"
   ]
  },
  {
   "cell_type": "code",
   "execution_count": 12,
   "id": "6fedee77",
   "metadata": {},
   "outputs": [],
   "source": [
    "import math"
   ]
  },
  {
   "cell_type": "code",
   "execution_count": 13,
   "id": "0f0dfd9b",
   "metadata": {},
   "outputs": [
    {
     "ename": "NameError",
     "evalue": "name 'sin' is not defined",
     "output_type": "error",
     "traceback": [
      "\u001b[0;31m---------------------------------------------------------------------------\u001b[0m",
      "\u001b[0;31mNameError\u001b[0m                                 Traceback (most recent call last)",
      "Input \u001b[0;32mIn [13]\u001b[0m, in \u001b[0;36m<cell line: 1>\u001b[0;34m()\u001b[0m\n\u001b[0;32m----> 1\u001b[0m v \u001b[38;5;241m=\u001b[39m \u001b[43msin\u001b[49m(pi)\n\u001b[1;32m      3\u001b[0m \u001b[38;5;28mprint\u001b[39m(v)\n",
      "\u001b[0;31mNameError\u001b[0m: name 'sin' is not defined"
     ]
    }
   ],
   "source": [
    "v = sin(pi)\n",
    "\n",
    "print(v)"
   ]
  },
  {
   "cell_type": "code",
   "execution_count": null,
   "id": "f9319d45",
   "metadata": {},
   "outputs": [],
   "source": [
    "v = math.sin(math.pi)\n",
    "\n",
    "print(v)"
   ]
  },
  {
   "cell_type": "code",
   "execution_count": null,
   "id": "560c98f7",
   "metadata": {},
   "outputs": [],
   "source": [
    "from math import sin,pi\n",
    "\n",
    "v = sin(pi)\n",
    "\n",
    "print(v)"
   ]
  },
  {
   "cell_type": "code",
   "execution_count": null,
   "id": "61ac6319",
   "metadata": {},
   "outputs": [],
   "source": [
    "sin(0)"
   ]
  },
  {
   "cell_type": "markdown",
   "id": "c6cd806c",
   "metadata": {},
   "source": [
    "## Booleans"
   ]
  },
  {
   "cell_type": "code",
   "execution_count": null,
   "id": "ff1569cb",
   "metadata": {},
   "outputs": [],
   "source": [
    "a = True"
   ]
  },
  {
   "cell_type": "code",
   "execution_count": null,
   "id": "6ee3011d",
   "metadata": {},
   "outputs": [],
   "source": [
    "1 > 2"
   ]
  },
  {
   "cell_type": "code",
   "execution_count": null,
   "id": "a0955c37",
   "metadata": {},
   "outputs": [],
   "source": [
    "a = 0.0\n",
    "b = 0.1\n",
    "\n",
    "if a:\n",
    "    print(\"a is true\")\n",
    "if b:\n",
    "    print(\"b is true\")"
   ]
  },
  {
   "cell_type": "markdown",
   "id": "eb137b89",
   "metadata": {},
   "source": [
    "## Comparison Operators \n",
    "\n",
    "In this lecture we will be learning about Comparison Operators in Python. These operators will allow us to compare variables and output a Boolean value (True or False). \n",
    "\n",
    "If you have any sort of background in Math, these operators should be very straight forward.\n",
    "\n",
    "First we'll present a table of the comparison operators and then work through some examples:\n",
    "\n",
    "<table class=\"table table-bordered\">\n",
    "<tr>\n",
    "<th style=\"width:10%\">Operator</th><th style=\"width:45%\">Description</th><th>Example</th>\n",
    "</tr>\n",
    "<tr>\n",
    "<td>==</td>\n",
    "<td>If the values of two operands are equal, then the condition becomes true.</td>\n",
    "<td> (3 == 4) is not true.</td>\n",
    "</tr>\n",
    "<tr>\n",
    "<td>!=</td>\n",
    "<td>If values of two operands are not equal, then condition becomes true.</td>\n",
    "<td>(3 != 4) is true</td>\n",
    "</tr>\n",
    "<tr>\n",
    "<td>&gt;</td>\n",
    "<td>If the value of left operand is greater than the value of right operand, then condition becomes true.</td>\n",
    "<td> (3 &gt; 4) is not true.</td>\n",
    "</tr>\n",
    "<tr>\n",
    "<td>&lt;</td>\n",
    "<td>If the value of left operand is less than the value of right operand, then condition becomes true.</td>\n",
    "<td> (3 &lt; 4) is true.</td>\n",
    "</tr>\n",
    "<tr>\n",
    "<td>&gt;=</td>\n",
    "<td>If the value of left operand is greater than or equal to the value of right operand, then condition becomes true.</td>\n",
    "<td> (3 &gt;= 4) is not true. </td>\n",
    "</tr>\n",
    "<tr>\n",
    "<td>&lt;=</td>\n",
    "<td>If the value of left operand is less than or equal to the value of right operand, then condition becomes true.</td>\n",
    "<td> (3 &lt;= 4) is true. </td>\n",
    "</tr>\n",
    "</table>"
   ]
  },
  {
   "cell_type": "code",
   "execution_count": 14,
   "id": "d2a586c4",
   "metadata": {},
   "outputs": [
    {
     "data": {
      "text/plain": [
       "True"
      ]
     },
     "execution_count": 14,
     "metadata": {},
     "output_type": "execute_result"
    }
   ],
   "source": [
    "1 < 2 < 3"
   ]
  },
  {
   "cell_type": "code",
   "execution_count": 15,
   "id": "e687b54e",
   "metadata": {},
   "outputs": [
    {
     "data": {
      "text/plain": [
       "True"
      ]
     },
     "execution_count": 15,
     "metadata": {},
     "output_type": "execute_result"
    }
   ],
   "source": [
    "1<2 and 3>2"
   ]
  },
  {
   "cell_type": "code",
   "execution_count": 16,
   "id": "ad8f2ce5",
   "metadata": {},
   "outputs": [
    {
     "data": {
      "text/plain": [
       "False"
      ]
     },
     "execution_count": 16,
     "metadata": {},
     "output_type": "execute_result"
    }
   ],
   "source": [
    "1<2 & 3>2"
   ]
  },
  {
   "cell_type": "code",
   "execution_count": 17,
   "id": "cb4f8731",
   "metadata": {},
   "outputs": [
    {
     "data": {
      "text/plain": [
       "True"
      ]
     },
     "execution_count": 17,
     "metadata": {},
     "output_type": "execute_result"
    }
   ],
   "source": [
    "1==2 or 2<3"
   ]
  },
  {
   "cell_type": "code",
   "execution_count": 18,
   "id": "4c6c9d5f",
   "metadata": {},
   "outputs": [
    {
     "data": {
      "text/plain": [
       "True"
      ]
     },
     "execution_count": 18,
     "metadata": {},
     "output_type": "execute_result"
    }
   ],
   "source": [
    "(1==2) | (2<3)"
   ]
  },
  {
   "cell_type": "markdown",
   "id": "ffd9e8eb",
   "metadata": {},
   "source": [
    "## Strings"
   ]
  },
  {
   "cell_type": "code",
   "execution_count": 19,
   "id": "be5d5447",
   "metadata": {},
   "outputs": [
    {
     "data": {
      "text/plain": [
       "'hello'"
      ]
     },
     "execution_count": 19,
     "metadata": {},
     "output_type": "execute_result"
    }
   ],
   "source": [
    "'hello'"
   ]
  },
  {
   "cell_type": "code",
   "execution_count": 20,
   "id": "980eea68",
   "metadata": {},
   "outputs": [
    {
     "data": {
      "text/plain": [
       "'This is also a string'"
      ]
     },
     "execution_count": 20,
     "metadata": {},
     "output_type": "execute_result"
    }
   ],
   "source": [
    "\"This is also a string\""
   ]
  },
  {
   "cell_type": "code",
   "execution_count": 21,
   "id": "3873d2f3",
   "metadata": {},
   "outputs": [
    {
     "ename": "SyntaxError",
     "evalue": "invalid syntax (2440749006.py, line 1)",
     "output_type": "error",
     "traceback": [
      "\u001b[0;36m  Input \u001b[0;32mIn [21]\u001b[0;36m\u001b[0m\n\u001b[0;31m    ' I'm using single quotes, but this will create an error'\u001b[0m\n\u001b[0m        ^\u001b[0m\n\u001b[0;31mSyntaxError\u001b[0m\u001b[0;31m:\u001b[0m invalid syntax\n"
     ]
    }
   ],
   "source": [
    "' I'm using single quotes, but this will create an error'"
   ]
  },
  {
   "cell_type": "code",
   "execution_count": 22,
   "id": "2466a681",
   "metadata": {},
   "outputs": [
    {
     "data": {
      "text/plain": [
       "\" I'm using single quotes, but this will create an error\""
      ]
     },
     "execution_count": 22,
     "metadata": {},
     "output_type": "execute_result"
    }
   ],
   "source": [
    "' I\\'m using single quotes, but this will create an error'"
   ]
  },
  {
   "cell_type": "code",
   "execution_count": 23,
   "id": "111790e1",
   "metadata": {},
   "outputs": [
    {
     "name": "stdout",
     "output_type": "stream",
     "text": [
      "Hello World 1\n",
      "Hello World 2\n",
      "Use \n",
      " to print a new line\n",
      "\n",
      "\n",
      "See what I mean?\n"
     ]
    }
   ],
   "source": [
    "print('Hello World 1')\n",
    "print('Hello World 2')\n",
    "print('Use \\n to print a new line')\n",
    "print('\\n')\n",
    "print('See what I mean?')"
   ]
  },
  {
   "cell_type": "code",
   "execution_count": 24,
   "id": "4807d665",
   "metadata": {},
   "outputs": [],
   "source": [
    "s = 'Hello World'"
   ]
  },
  {
   "cell_type": "code",
   "execution_count": 25,
   "id": "d6cef4fe",
   "metadata": {},
   "outputs": [
    {
     "data": {
      "text/plain": [
       "'e'"
      ]
     },
     "execution_count": 25,
     "metadata": {},
     "output_type": "execute_result"
    }
   ],
   "source": [
    "s[1]"
   ]
  },
  {
   "cell_type": "code",
   "execution_count": 26,
   "id": "4e4dd961",
   "metadata": {},
   "outputs": [
    {
     "data": {
      "text/plain": [
       "'ello World'"
      ]
     },
     "execution_count": 26,
     "metadata": {},
     "output_type": "execute_result"
    }
   ],
   "source": [
    "s[1:]"
   ]
  },
  {
   "cell_type": "code",
   "execution_count": 27,
   "id": "f3d4e689",
   "metadata": {},
   "outputs": [
    {
     "data": {
      "text/plain": [
       "'d'"
      ]
     },
     "execution_count": 27,
     "metadata": {},
     "output_type": "execute_result"
    }
   ],
   "source": [
    "s[-1]"
   ]
  },
  {
   "cell_type": "code",
   "execution_count": 28,
   "id": "fbc8d6a8",
   "metadata": {},
   "outputs": [
    {
     "data": {
      "text/plain": [
       "'HlWl'"
      ]
     },
     "execution_count": 28,
     "metadata": {},
     "output_type": "execute_result"
    }
   ],
   "source": [
    "s[::3]"
   ]
  },
  {
   "cell_type": "code",
   "execution_count": 29,
   "id": "1603309a",
   "metadata": {},
   "outputs": [
    {
     "name": "stdout",
     "output_type": "stream",
     "text": [
      "Hello World concatenate me!\n"
     ]
    }
   ],
   "source": [
    "s = s + ' concatenate me!'\n",
    "\n",
    "print(s)"
   ]
  },
  {
   "cell_type": "code",
   "execution_count": 30,
   "id": "5d48f24b",
   "metadata": {},
   "outputs": [
    {
     "name": "stdout",
     "output_type": "stream",
     "text": [
      "The magic number is 3.14e+00\n"
     ]
    }
   ],
   "source": [
    "a = 3.141592653589\n",
    "print(\"The magic number is {:.2e}\".format(a))"
   ]
  },
  {
   "cell_type": "markdown",
   "id": "438b13b6",
   "metadata": {},
   "source": [
    "## Lists"
   ]
  },
  {
   "cell_type": "code",
   "execution_count": 31,
   "id": "424fb468",
   "metadata": {},
   "outputs": [],
   "source": [
    "my_list = ['one','two','three',4,5]"
   ]
  },
  {
   "cell_type": "code",
   "execution_count": 32,
   "id": "b5f18e75",
   "metadata": {},
   "outputs": [
    {
     "data": {
      "text/plain": [
       "'one'"
      ]
     },
     "execution_count": 32,
     "metadata": {},
     "output_type": "execute_result"
    }
   ],
   "source": [
    "my_list[0]"
   ]
  },
  {
   "cell_type": "code",
   "execution_count": 33,
   "id": "8c407145",
   "metadata": {
    "scrolled": true
   },
   "outputs": [
    {
     "data": {
      "text/plain": [
       "['two', 'three', 4, 5]"
      ]
     },
     "execution_count": 33,
     "metadata": {},
     "output_type": "execute_result"
    }
   ],
   "source": [
    "my_list[1:]"
   ]
  },
  {
   "cell_type": "code",
   "execution_count": 34,
   "id": "9823f8e8",
   "metadata": {},
   "outputs": [],
   "source": [
    "my_list = my_list + ['add new item permanently']"
   ]
  },
  {
   "cell_type": "code",
   "execution_count": 35,
   "id": "af196964",
   "metadata": {},
   "outputs": [
    {
     "data": {
      "text/plain": [
       "['one', 'two', 'three', 4, 5, 'add new item permanently']"
      ]
     },
     "execution_count": 35,
     "metadata": {},
     "output_type": "execute_result"
    }
   ],
   "source": [
    "my_list"
   ]
  },
  {
   "cell_type": "code",
   "execution_count": 36,
   "id": "6de5bc06",
   "metadata": {},
   "outputs": [
    {
     "data": {
      "text/plain": [
       "['one',\n",
       " 'two',\n",
       " 'three',\n",
       " 4,\n",
       " 5,\n",
       " 'add new item permanently',\n",
       " 'one',\n",
       " 'two',\n",
       " 'three',\n",
       " 4,\n",
       " 5,\n",
       " 'add new item permanently',\n",
       " 'one',\n",
       " 'two',\n",
       " 'three',\n",
       " 4,\n",
       " 5,\n",
       " 'add new item permanently']"
      ]
     },
     "execution_count": 36,
     "metadata": {},
     "output_type": "execute_result"
    }
   ],
   "source": [
    "my_list * 3"
   ]
  },
  {
   "cell_type": "code",
   "execution_count": 37,
   "id": "0a4c0010",
   "metadata": {},
   "outputs": [],
   "source": [
    "# Append\n",
    "my_list.append('append me!')"
   ]
  },
  {
   "cell_type": "markdown",
   "id": "513bfa94",
   "metadata": {},
   "source": [
    "### List Comprehensions\n",
    "Python has an advanced feature called list comprehensions. They allow for quick construction of lists. To fully understand list comprehensions we need to understand for loops. So don't worry if you don't completely understand this section, and feel free to just skip it since we will return to this topic later.\n",
    "\n",
    "But in case you want to know now, here are a few examples!"
   ]
  },
  {
   "cell_type": "code",
   "execution_count": 38,
   "id": "e45d0be5",
   "metadata": {},
   "outputs": [
    {
     "name": "stdout",
     "output_type": "stream",
     "text": [
      "[0, 4]\n"
     ]
    }
   ],
   "source": [
    "# Build a list comprehension by deconstructing a for loop within a []\n",
    "matrix = [[0,1,2,3],\n",
    "          [4,5,6,7]]\n",
    "first_col = [row[0] for row in matrix]\n",
    "\n",
    "print(first_col)"
   ]
  },
  {
   "cell_type": "code",
   "execution_count": 39,
   "id": "aef951bc",
   "metadata": {},
   "outputs": [
    {
     "name": "stdout",
     "output_type": "stream",
     "text": [
      "[0, 2, 4, 6, 8, 10]\n"
     ]
    }
   ],
   "source": [
    "lst = [x for x in range(11) if x % 2 == 0]\n",
    "\n",
    "print(lst)"
   ]
  },
  {
   "cell_type": "markdown",
   "id": "5d699432",
   "metadata": {},
   "source": [
    "## if, elif, else Statements"
   ]
  },
  {
   "cell_type": "markdown",
   "id": "c7e2e142",
   "metadata": {},
   "source": [
    "```python\n",
    "if case1:\n",
    "    perform action1\n",
    "elif case2:\n",
    "    perform action2\n",
    "else: \n",
    "    perform action3\n",
    "```"
   ]
  },
  {
   "cell_type": "code",
   "execution_count": 40,
   "id": "63341d7c",
   "metadata": {},
   "outputs": [
    {
     "name": "stdout",
     "output_type": "stream",
     "text": [
      "Welcome George!\n"
     ]
    }
   ],
   "source": [
    "person = 'George'\n",
    "\n",
    "if person == 'Sammy':\n",
    "    print('Welcome Sammy!')\n",
    "elif person =='George':\n",
    "    print('Welcome George!')\n",
    "else:\n",
    "    print(\"Welcome, what's your name?\")"
   ]
  },
  {
   "cell_type": "code",
   "execution_count": 41,
   "id": "fd73625b",
   "metadata": {},
   "outputs": [
    {
     "name": "stdout",
     "output_type": "stream",
     "text": [
      "Above ten,\n",
      "and also above 20!\n"
     ]
    }
   ],
   "source": [
    "x = 41\n",
    "\n",
    "if x > 10:\n",
    "    print(\"Above ten,\")\n",
    "    if x > 20:\n",
    "        print(\"and also above 20!\")\n",
    "    else:\n",
    "        print(\"but not above 20.\") "
   ]
  },
  {
   "cell_type": "code",
   "execution_count": 42,
   "id": "e53f170b",
   "metadata": {},
   "outputs": [
    {
     "name": "stdout",
     "output_type": "stream",
     "text": [
      "Above ten,\n",
      "but not above 20.\n"
     ]
    }
   ],
   "source": [
    "x = 11\n",
    "\n",
    "if x > 10:\n",
    "    print(\"Above ten,\")\n",
    "    if x > 20:\n",
    "        print(\"and also above 20!\")\n",
    "    else:\n",
    "        print(\"but not above 20.\")\n",
    "else:\n",
    "    pass"
   ]
  },
  {
   "cell_type": "markdown",
   "id": "0d30aaab",
   "metadata": {},
   "source": [
    "### Indentation\n",
    "\n",
    "It is important to keep a good understanding of how indentation works in Python to maintain the structure and order of your code. We will touch on this topic again when we start building out functions!"
   ]
  },
  {
   "cell_type": "markdown",
   "id": "edc4ae60",
   "metadata": {},
   "source": [
    "## Loops"
   ]
  },
  {
   "cell_type": "markdown",
   "id": "b2c4ffec",
   "metadata": {},
   "source": [
    "### For"
   ]
  },
  {
   "cell_type": "markdown",
   "id": "f997524d",
   "metadata": {},
   "source": [
    "```python\n",
    "for item in object:\n",
    "    statements to do stuff\n",
    "```"
   ]
  },
  {
   "cell_type": "code",
   "execution_count": 43,
   "id": "3a2ad9f3",
   "metadata": {},
   "outputs": [
    {
     "name": "stdout",
     "output_type": "stream",
     "text": [
      "1\n",
      "2\n",
      "3\n",
      "4\n",
      "5\n",
      "6\n",
      "7\n",
      "8\n",
      "9\n"
     ]
    }
   ],
   "source": [
    "list1 = [1,2,3,4,5,6,7,8,9]\n",
    "\n",
    "for num in list1:\n",
    "    print(num)"
   ]
  },
  {
   "cell_type": "code",
   "execution_count": 44,
   "id": "d0f042a0",
   "metadata": {},
   "outputs": [
    {
     "name": "stdout",
     "output_type": "stream",
     "text": [
      "0\n",
      "1\n",
      "2\n",
      "3\n",
      "4\n",
      "5\n",
      "6\n",
      "7\n",
      "8\n",
      "9\n"
     ]
    }
   ],
   "source": [
    "for x in range(10):\n",
    "    print(x)"
   ]
  },
  {
   "cell_type": "code",
   "execution_count": 45,
   "id": "1c447ff2",
   "metadata": {},
   "outputs": [
    {
     "name": "stdout",
     "output_type": "stream",
     "text": [
      "Odd number\n",
      "2\n",
      "Odd number\n",
      "4\n",
      "Odd number\n",
      "6\n",
      "Odd number\n",
      "8\n",
      "Odd number\n"
     ]
    }
   ],
   "source": [
    "for num in list1:\n",
    "    if num % 2 == 0:\n",
    "        print(num)\n",
    "    else:\n",
    "        print('Odd number')"
   ]
  },
  {
   "cell_type": "code",
   "execution_count": 46,
   "id": "c6b03f0e",
   "metadata": {},
   "outputs": [
    {
     "name": "stdout",
     "output_type": "stream",
     "text": [
      "list element 3\n",
      "list element 4\n",
      "list element 50\n"
     ]
    }
   ],
   "source": [
    "C = [\"hi\",\"hello\",3,4,50,'dog']\n",
    "\n",
    "for c in C:\n",
    "    if(type(c) == int):\n",
    "        print(\"list element %d\" %(c))"
   ]
  },
  {
   "cell_type": "markdown",
   "id": "21ac568c",
   "metadata": {},
   "source": [
    "### While"
   ]
  },
  {
   "cell_type": "markdown",
   "id": "0d80ac80",
   "metadata": {},
   "source": [
    "```python\n",
    "while test:\n",
    "    code statements\n",
    "else:\n",
    "    final code statements\n",
    "```"
   ]
  },
  {
   "cell_type": "code",
   "execution_count": 47,
   "id": "3cf0f088",
   "metadata": {},
   "outputs": [
    {
     "name": "stdout",
     "output_type": "stream",
     "text": [
      "x is currently:  0\n",
      " x is still less than 10, adding 1 to x\n",
      "x is currently:  1\n",
      " x is still less than 10, adding 1 to x\n",
      "x is currently:  2\n",
      " x is still less than 10, adding 1 to x\n",
      "x is currently:  3\n",
      " x is still less than 10, adding 1 to x\n",
      "x is currently:  4\n",
      " x is still less than 10, adding 1 to x\n",
      "x is currently:  5\n",
      " x is still less than 10, adding 1 to x\n",
      "x is currently:  6\n",
      " x is still less than 10, adding 1 to x\n",
      "x is currently:  7\n",
      " x is still less than 10, adding 1 to x\n",
      "x is currently:  8\n",
      " x is still less than 10, adding 1 to x\n",
      "x is currently:  9\n",
      " x is still less than 10, adding 1 to x\n",
      "All Done!\n"
     ]
    }
   ],
   "source": [
    "x = 0\n",
    "\n",
    "while x < 10:\n",
    "    print('x is currently: ',x)\n",
    "    print(' x is still less than 10, adding 1 to x')\n",
    "    x+=1\n",
    "else:\n",
    "    print('All Done!')"
   ]
  },
  {
   "cell_type": "markdown",
   "id": "5401635a",
   "metadata": {},
   "source": [
    "### Break, continue, pass\n",
    "\n",
    "break: Breaks out of the current closest enclosing loop.\n",
    "\n",
    "continue: Goes to the top of the closest enclosing loop.\n",
    "\n",
    "pass: Does nothing at all."
   ]
  },
  {
   "cell_type": "code",
   "execution_count": 48,
   "id": "21a99834",
   "metadata": {},
   "outputs": [
    {
     "name": "stdout",
     "output_type": "stream",
     "text": [
      "x is currently:  0\n",
      " x is still less than 10, adding 1 to x\n",
      "continuing...\n",
      "x is currently:  1\n",
      " x is still less than 10, adding 1 to x\n",
      "continuing...\n",
      "x is currently:  2\n",
      " x is still less than 10, adding 1 to x\n",
      "Breaking because x==3\n"
     ]
    }
   ],
   "source": [
    "x = 0\n",
    "\n",
    "while x < 10:\n",
    "    print('x is currently: ',x)\n",
    "    print(' x is still less than 10, adding 1 to x')\n",
    "    x+=1\n",
    "    if x==3:\n",
    "        print('Breaking because x==3')\n",
    "        break\n",
    "    else:\n",
    "        print('continuing...')\n",
    "        continue"
   ]
  },
  {
   "cell_type": "markdown",
   "id": "3503f9e1",
   "metadata": {},
   "source": [
    "## Example"
   ]
  },
  {
   "cell_type": "markdown",
   "id": "b56bce97",
   "metadata": {},
   "source": [
    "$$sin(x) \\approx x - \\frac{x^3}{3!} + \\frac{x^5}{5!} - \\frac{x^7}{7!} + \\ldots$$"
   ]
  },
  {
   "cell_type": "code",
   "execution_count": 49,
   "id": "51c2342a",
   "metadata": {},
   "outputs": [
    {
     "name": "stdout",
     "output_type": "stream",
     "text": [
      "sin(1.2) = 0.932039(approximation with 25 terms)\n"
     ]
    }
   ],
   "source": [
    "import math\n",
    "\n",
    "x = 1.2 # assign some value\n",
    "\n",
    "N = 25 # maximum power in sum\n",
    "k = 1\n",
    "s = x\n",
    "sign = 1.0\n",
    "\n",
    "while k < N:\n",
    "    sign = - sign\n",
    "    \n",
    "    k = k + 2 \n",
    "    \n",
    "    term = sign*x**k/math.factorial(k)\n",
    "    \n",
    "    s = s + term\n",
    "    \n",
    "print('sin(%g) = %g(approximation with %d terms)' % (x, s, N))"
   ]
  },
  {
   "cell_type": "code",
   "execution_count": 50,
   "id": "351c5641",
   "metadata": {},
   "outputs": [
    {
     "data": {
      "text/plain": [
       "0.9320390859672263"
      ]
     },
     "execution_count": 50,
     "metadata": {},
     "output_type": "execute_result"
    }
   ],
   "source": [
    "math.sin(1.2)"
   ]
  },
  {
   "cell_type": "code",
   "execution_count": 51,
   "id": "312b6442",
   "metadata": {},
   "outputs": [
    {
     "name": "stdout",
     "output_type": "stream",
     "text": [
      "sin(1.2) = 0.932039(approximation with 25 terms)\n"
     ]
    }
   ],
   "source": [
    "import math\n",
    "\n",
    "x = 1.2 # assign some value\n",
    "\n",
    "N = 25 # maximum power in sum\n",
    "k = 1\n",
    "s = x\n",
    "sign = 1.0\n",
    "\n",
    "for k in range(3,N,2):\n",
    "    sign = - sign\n",
    "    \n",
    "    term = sign*x**k/math.factorial(k)\n",
    "    \n",
    "    s = s + term\n",
    "    \n",
    "print('sin(%g) = %g(approximation with %d terms)' % (x, s, N))"
   ]
  },
  {
   "cell_type": "code",
   "execution_count": 52,
   "id": "adbaae3f",
   "metadata": {},
   "outputs": [
    {
     "data": {
      "text/plain": [
       "0.9320390859672263"
      ]
     },
     "execution_count": 52,
     "metadata": {},
     "output_type": "execute_result"
    }
   ],
   "source": [
    "math.sin(1.2)"
   ]
  },
  {
   "cell_type": "markdown",
   "id": "2082b936",
   "metadata": {},
   "source": [
    "## Functions"
   ]
  },
  {
   "cell_type": "code",
   "execution_count": 53,
   "id": "5828feb5",
   "metadata": {},
   "outputs": [],
   "source": [
    "def name_of_function(arg1,arg2):\n",
    "    '''\n",
    "    This is where the function's Document String (docstring) goes.\n",
    "    When you call help() on your function it will be printed out.\n",
    "    '''\n",
    "    # Do stuff here\n",
    "    # Return desired result"
   ]
  },
  {
   "cell_type": "code",
   "execution_count": 54,
   "id": "85c8e214",
   "metadata": {},
   "outputs": [],
   "source": [
    "def myfunc(n):\n",
    "    s = n + 1    \n",
    "    return n+1"
   ]
  },
  {
   "cell_type": "code",
   "execution_count": 55,
   "id": "1fb126ff",
   "metadata": {},
   "outputs": [
    {
     "name": "stdout",
     "output_type": "stream",
     "text": [
      "4\n"
     ]
    }
   ],
   "source": [
    "s = myfunc(2) + 1\n",
    "print(s)"
   ]
  },
  {
   "cell_type": "code",
   "execution_count": 56,
   "id": "041d774b",
   "metadata": {},
   "outputs": [],
   "source": [
    "def yfunc(t, v0):\n",
    "    g = 9.81\n",
    "    vfinal = v0 - g*t\n",
    "    return vfinal,v0*t - 0.5*g*t**2"
   ]
  },
  {
   "cell_type": "code",
   "execution_count": 57,
   "id": "7eecdf77",
   "metadata": {},
   "outputs": [
    {
     "name": "stdout",
     "output_type": "stream",
     "text": [
      "-98.10000000000001\n",
      "-490.5\n"
     ]
    }
   ],
   "source": [
    "vf,disp = yfunc(10,0)\n",
    "\n",
    "print(vf)\n",
    "print(disp)"
   ]
  },
  {
   "cell_type": "code",
   "execution_count": 58,
   "id": "3663abe1",
   "metadata": {},
   "outputs": [],
   "source": [
    "def Simpson(f, a, b, n=500):\n",
    "\n",
    "    h = (b-a)/n\n",
    "    \n",
    "    \n",
    "    sum1 = 0\n",
    "    for i in range(1, int(n/2 + 1)):\n",
    "        sum1 += f(a + (2*i-1)*h) \n",
    "        \n",
    "    sum2 = 0\n",
    "    for i in range(1, int(n/2)):\n",
    "        sum2 += f(a + 2*i*h)\n",
    "            \n",
    "    integral = (b-a)/(3*n)*(f(a) + f(b) + 4*sum1 + 2*sum2)\n",
    "    \n",
    "    return integral"
   ]
  },
  {
   "cell_type": "code",
   "execution_count": 59,
   "id": "ca9b211d",
   "metadata": {},
   "outputs": [
    {
     "name": "stdout",
     "output_type": "stream",
     "text": [
      "Integral of 1.5*sin^3 from 0 to pi:\n",
      "n=  2, approx= 3.141592653589793, error=-1.14E+00\n",
      "n=  6, approx= 1.989171700583579, error= 1.08E-02\n",
      "n= 12, approx= 1.999489233010781, error= 5.11E-04\n",
      "n=100, approx= 1.999999902476350, error= 9.75E-08\n",
      "n=500, approx= 1.999999999844138, error= 1.56E-10\n"
     ]
    }
   ],
   "source": [
    "def h(x):\n",
    "    return 3/2 * math.sin(x)**3\n",
    "\n",
    "print(\"Integral of 1.5*sin^3 from 0 to pi:\")\n",
    "\n",
    "for n in [2, 6, 12, 100, 500]:\n",
    "    approx = Simpson(h,0,math.pi, n)\n",
    "    print (\"n=%3d, approx=%18.15f, error=%9.2E\" %(n, approx, 2-approx))"
   ]
  },
  {
   "cell_type": "code",
   "execution_count": 60,
   "id": "fc97c9c3",
   "metadata": {},
   "outputs": [],
   "source": [
    "approx = Simpson(h,0,math.pi)"
   ]
  },
  {
   "cell_type": "code",
   "execution_count": 61,
   "id": "1ef95ef6",
   "metadata": {},
   "outputs": [
    {
     "name": "stdout",
     "output_type": "stream",
     "text": [
      "1.9999999998441378\n"
     ]
    }
   ],
   "source": [
    "print(approx)"
   ]
  },
  {
   "cell_type": "markdown",
   "id": "091b8fdb",
   "metadata": {},
   "source": [
    "## Lambda Expressions\n",
    "\n",
    "One of Pythons most useful (and for beginners, confusing) tools is the lambda expression. lambda expressions allow us to create \"anonymous\" functions. This basically means we can quickly make ad-hoc functions without needing to properly define a function using def.\n",
    "\n",
    "Function objects returned by running lambda expressions work exactly the same as those created and assigned by defs. There is key difference that makes lambda useful in specialized roles:\n",
    "\n",
    "**lambda's body is a single expression, not a block of statements.**\n",
    "\n",
    "* The lambda's body is similar to what we would put in a def body's return statement. We simply type the result as an expression instead of explicitly returning it. Because it is limited to an expression, a lambda is less general that a def. We can only squeeze design, to limit program nesting. lambda is designed for coding simple functions, and def handles the larger tasks."
   ]
  },
  {
   "cell_type": "code",
   "execution_count": 62,
   "id": "7286954c",
   "metadata": {},
   "outputs": [],
   "source": [
    "def square(num):\n",
    "    result = num**2\n",
    "    return result"
   ]
  },
  {
   "cell_type": "code",
   "execution_count": 63,
   "id": "b12656e1",
   "metadata": {},
   "outputs": [],
   "source": [
    "square = lambda num: num **2"
   ]
  },
  {
   "cell_type": "code",
   "execution_count": 64,
   "id": "345795a1",
   "metadata": {},
   "outputs": [
    {
     "data": {
      "text/plain": [
       "4"
      ]
     },
     "execution_count": 64,
     "metadata": {},
     "output_type": "execute_result"
    }
   ],
   "source": [
    "square(2)"
   ]
  },
  {
   "cell_type": "markdown",
   "id": "fbe851b5",
   "metadata": {},
   "source": [
    "## ```*args``` and ```**kwargs```"
   ]
  },
  {
   "cell_type": "code",
   "execution_count": 65,
   "id": "55ecc367",
   "metadata": {},
   "outputs": [
    {
     "data": {
      "text/plain": [
       "2.0"
      ]
     },
     "execution_count": 65,
     "metadata": {},
     "output_type": "execute_result"
    }
   ],
   "source": [
    "def myfunc(*args):\n",
    "    return sum(args)*.05\n",
    "\n",
    "myfunc(40)"
   ]
  },
  {
   "cell_type": "code",
   "execution_count": 66,
   "id": "294a0efb",
   "metadata": {},
   "outputs": [
    {
     "name": "stdout",
     "output_type": "stream",
     "text": [
      "My favorite fruit is pineapple\n"
     ]
    }
   ],
   "source": [
    "def myfunc(**kwargs):\n",
    "    if 'fruit' in kwargs:\n",
    "        print(f\"My favorite fruit is {kwargs['fruit']}\")  # review String Formatting and f-strings if this syntax is unfamiliar\n",
    "    else:\n",
    "        print(\"I don't like fruit\")\n",
    "        \n",
    "myfunc(fruit='pineapple')"
   ]
  },
  {
   "cell_type": "code",
   "execution_count": 67,
   "id": "e37867a7",
   "metadata": {},
   "outputs": [
    {
     "name": "stdout",
     "output_type": "stream",
     "text": [
      "I like eggs and spam and my favorite fruit is cherries\n",
      "May I have some orange juice?\n"
     ]
    }
   ],
   "source": [
    "def myfunc(*args, **kwargs):\n",
    "    if 'fruit' and 'juice' in kwargs:\n",
    "        print(f\"I like {' and '.join(args)} and my favorite fruit is {kwargs['fruit']}\")\n",
    "        print(f\"May I have some {kwargs['juice']} juice?\")\n",
    "    else:\n",
    "        pass\n",
    "        \n",
    "myfunc('eggs','spam',fruit='cherries',juice='orange')"
   ]
  },
  {
   "cell_type": "markdown",
   "id": "97bb64d5",
   "metadata": {},
   "source": [
    "## Object Oriented Programming"
   ]
  },
  {
   "cell_type": "markdown",
   "id": "27a300dd",
   "metadata": {},
   "source": [
    "### class\n",
    "User defined objects are created using the <code>class</code> keyword. The class is a blueprint that defines the nature of a future object. From classes we can construct instances. An instance is a specific object created from a particular class. For example, above we created the object <code>lst</code> which was an instance of a list object. "
   ]
  },
  {
   "cell_type": "markdown",
   "id": "e65e1bf9",
   "metadata": {},
   "source": [
    "By convention we give classes a name that starts with a capital letter. Note how <code>x</code> is now the reference to our new instance of a Sample class. In other words, we **instantiate** the Sample class.\n",
    "\n",
    "Inside of the class we currently just have pass. But we can define class attributes and methods.\n",
    "\n",
    "An **attribute** is a characteristic of an object.\n",
    "A **method** is an operation we can perform with the object.\n",
    "\n",
    "For example, we can create a class called Dog. An attribute of a dog may be its breed or its name, while a method of a dog may be defined by a .bark() method which returns a sound.\n",
    "\n",
    "### Attributes\n",
    "The syntax for creating an attribute is:\n",
    "    \n",
    "    self.attribute = something\n",
    "    \n",
    "There is a special method called:\n",
    "\n",
    "    __init__()\n",
    "\n",
    "This method is used to initialize the attributes of an object. For example:"
   ]
  },
  {
   "cell_type": "code",
   "execution_count": 68,
   "id": "f2d50dc3",
   "metadata": {
    "scrolled": true
   },
   "outputs": [
    {
     "name": "stdout",
     "output_type": "stream",
     "text": [
      "Radius is:  1\n",
      "Area is:  3.14\n",
      "Circumference is:  6.28\n"
     ]
    }
   ],
   "source": [
    "class Circle:\n",
    "    pi = 3.14\n",
    "\n",
    "    # Circle gets instantiated with a radius (default is 1)\n",
    "    def __init__(self, radius=1):\n",
    "        self.radius = radius \n",
    "        self.area = radius * radius * Circle.pi\n",
    "\n",
    "    # Method for resetting Radius\n",
    "    def setRadius(self, new_radius):\n",
    "        self.radius = new_radius\n",
    "        self.area = new_radius * new_radius * self.pi\n",
    "\n",
    "    # Method for getting Circumference\n",
    "    def getCircumference(self):\n",
    "        return self.radius * self.pi * 2\n",
    "\n",
    "\n",
    "c = Circle()\n",
    "\n",
    "print('Radius is: ',c.radius)\n",
    "print('Area is: ',c.area)\n",
    "print('Circumference is: ',c.getCircumference())"
   ]
  },
  {
   "cell_type": "code",
   "execution_count": 69,
   "id": "425711a7",
   "metadata": {},
   "outputs": [
    {
     "name": "stdout",
     "output_type": "stream",
     "text": [
      "Radius is:  5\n",
      "Area is:  78.5\n",
      "Circumference is:  31.400000000000002\n"
     ]
    }
   ],
   "source": [
    "c.setRadius(5)\n",
    "\n",
    "print('Radius is: ',c.radius)\n",
    "print('Area is: ',c.area)\n",
    "print('Circumference is: ',c.getCircumference())"
   ]
  },
  {
   "cell_type": "markdown",
   "id": "e625b494",
   "metadata": {},
   "source": [
    "## Errors and Exceptions"
   ]
  },
  {
   "cell_type": "markdown",
   "id": "e45bafaf",
   "metadata": {},
   "source": [
    "### try and except\n",
    "\n",
    "The basic terminology and syntax used to handle errors in Python are the <code>try</code> and <code>except</code> statements. The code which can cause an exception to occur is put in the <code>try</code> block and the handling of the exception is then implemented in the <code>except</code> block of code. The syntax follows:\n",
    "\n",
    "    try:\n",
    "       You do your operations here...\n",
    "       ...\n",
    "    except ExceptionI:\n",
    "       If there is ExceptionI, then execute this block.\n",
    "    except ExceptionII:\n",
    "       If there is ExceptionII, then execute this block.\n",
    "       ...\n",
    "    else:\n",
    "       If there is no exception then execute this block.\n",
    "    finally:\n",
    "       This code block would always be executed.\n",
    "\n",
    "We can also just check for any exception with just using <code>except:</code> To get a better understanding of all this let's check out an example: We will look at some code that opens and writes a file:"
   ]
  },
  {
   "cell_type": "code",
   "execution_count": 70,
   "id": "d9a1b3ec",
   "metadata": {},
   "outputs": [],
   "source": [
    "def askint():\n",
    "    while True:\n",
    "        try:\n",
    "            val = int(input(\"Please enter an integer: \"))\n",
    "        except:\n",
    "            print(\"Looks like you did not enter an integer!\")\n",
    "            continue\n",
    "        else:\n",
    "            print(\"Yep that's an integer!\")\n",
    "            print(val)\n",
    "            break\n",
    "        finally:\n",
    "            print(\"Finally, I executed!\")"
   ]
  },
  {
   "cell_type": "code",
   "execution_count": 71,
   "id": "9f122d38",
   "metadata": {},
   "outputs": [
    {
     "name": "stdout",
     "output_type": "stream",
     "text": [
      "Please enter an integer: \n",
      "Looks like you did not enter an integer!\n",
      "Finally, I executed!\n",
      "Please enter an integer: \n",
      "Looks like you did not enter an integer!\n",
      "Finally, I executed!\n",
      "Please enter an integer: \n",
      "Looks like you did not enter an integer!\n",
      "Finally, I executed!\n",
      "Please enter an integer: \n",
      "Please enter an integer: \n",
      "Looks like you did not enter an integer!\n",
      "Finally, I executed!\n",
      "Please enter an integer: \n",
      "Looks like you did not enter an integer!\n",
      "Finally, I executed!\n",
      "Looks like you did not enter an integer!\n",
      "Finally, I executed!\n",
      "Please enter an integer: \n",
      "Looks like you did not enter an integer!\n",
      "Finally, I executed!\n",
      "Please enter an integer: \n",
      "Looks like you did not enter an integer!\n",
      "Finally, I executed!\n",
      "Please enter an integer: \n",
      "Looks like you did not enter an integer!\n",
      "Finally, I executed!\n",
      "Please enter an integer: \n",
      "Looks like you did not enter an integer!\n",
      "Finally, I executed!\n",
      "Please enter an integer: \n",
      "Looks like you did not enter an integer!\n",
      "Finally, I executed!\n",
      "Please enter an integer: \n",
      "Please enter an integer: \n",
      "Looks like you did not enter an integer!\n",
      "Finally, I executed!\n",
      "Looks like you did not enter an integer!\n",
      "Finally, I executed!\n",
      "Please enter an integer: \n",
      "Looks like you did not enter an integer!\n",
      "Finally, I executed!\n",
      "Please enter an integer: \n",
      "Looks like you did not enter an integer!\n",
      "Finally, I executed!\n",
      "Please enter an integer: \n",
      "Looks like you did not enter an integer!\n",
      "Finally, I executed!\n",
      "Please enter an integer: \n",
      "Looks like you did not enter an integer!\n",
      "Finally, I executed!\n",
      "Please enter an integer: \n",
      "Looks like you did not enter an integer!\n",
      "Finally, I executed!\n",
      "Please enter an integer: \n",
      "Please enter an integer: \n",
      "Looks like you did not enter an integer!\n",
      "Finally, I executed!\n",
      "Please enter an integer: \n",
      "Looks like you did not enter an integer!\n",
      "Finally, I executed!\n",
      "Looks like you did not enter an integer!\n",
      "Finally, I executed!\n",
      "Please enter an integer: \n",
      "Looks like you did not enter an integer!\n",
      "Finally, I executed!\n",
      "Please enter an integer: \n",
      "Please enter an integer: \n",
      "Looks like you did not enter an integer!\n",
      "Finally, I executed!\n",
      "Looks like you did not enter an integer!\n",
      "Finally, I executed!\n",
      "Please enter an integer: \n",
      "Please enter an integer: \n",
      "Looks like you did not enter an integer!\n",
      "Finally, I executed!\n",
      "Looks like you did not enter an integer!\n",
      "Finally, I executed!\n",
      "Please enter an integer: \n",
      "Looks like you did not enter an integer!\n",
      "Finally, I executed!\n",
      "Please enter an integer: \n",
      "Looks like you did not enter an integer!\n",
      "Finally, I executed!\n",
      "Please enter an integer: \n",
      "Looks like you did not enter an integer!\n",
      "Finally, I executed!\n",
      "Please enter an integer: \n",
      "Please enter an integer: \n",
      "Looks like you did not enter an integer!\n",
      "Finally, I executed!\n",
      "Please enter an integer: \n",
      "Looks like you did not enter an integer!\n",
      "Finally, I executed!\n",
      "Looks like you did not enter an integer!\n",
      "Finally, I executed!\n",
      "Please enter an integer: \n",
      "Please enter an integer: \n",
      "Looks like you did not enter an integer!\n",
      "Finally, I executed!\n",
      "Please enter an integer: \n",
      "Looks like you did not enter an integer!\n",
      "Finally, I executed!\n",
      "Looks like you did not enter an integer!\n",
      "Finally, I executed!\n",
      "Please enter an integer: \n",
      "Please enter an integer: \n",
      "Looks like you did not enter an integer!\n",
      "Finally, I executed!\n",
      "Please enter an integer: \n",
      "Looks like you did not enter an integer!\n",
      "Finally, I executed!\n",
      "Please enter an integer: \n",
      "Looks like you did not enter an integer!\n",
      "Finally, I executed!\n",
      "Looks like you did not enter an integer!\n",
      "Finally, I executed!\n",
      "Please enter an integer: \n",
      "Please enter an integer: \n",
      "Looks like you did not enter an integer!\n",
      "Finally, I executed!\n",
      "Looks like you did not enter an integer!\n",
      "Finally, I executed!\n",
      "Please enter an integer: \n",
      "Looks like you did not enter an integer!\n",
      "Finally, I executed!\n",
      "Please enter an integer: \n",
      "Please enter an integer: \n",
      "Looks like you did not enter an integer!\n",
      "Finally, I executed!\n",
      "Looks like you did not enter an integer!\n",
      "Finally, I executed!\n",
      "Please enter an integer: \n",
      "Please enter an integer: \n",
      "Looks like you did not enter an integer!\n",
      "Finally, I executed!\n",
      "Looks like you did not enter an integer!\n",
      "Finally, I executed!\n",
      "Please enter an integer: \n",
      "Looks like you did not enter an integer!\n",
      "Finally, I executed!\n",
      "Please enter an integer: \n",
      "Looks like you did not enter an integer!\n",
      "Finally, I executed!\n",
      "Please enter an integer: \n",
      "Looks like you did not enter an integer!\n",
      "Finally, I executed!\n",
      "Please enter an integer: \n",
      "Looks like you did not enter an integer!\n",
      "Finally, I executed!\n",
      "Please enter an integer: \n",
      "Looks like you did not enter an integer!\n",
      "Finally, I executed!\n",
      "Please enter an integer: \n",
      "Looks like you did not enter an integer!\n",
      "Finally, I executed!\n",
      "Please enter an integer: \n",
      "Looks like you did not enter an integer!\n",
      "Finally, I executed!\n",
      "Please enter an integer: \n",
      "Looks like you did not enter an integer!\n",
      "Finally, I executed!\n",
      "Please enter an integer: \n",
      "Looks like you did not enter an integer!\n",
      "Finally, I executed!\n",
      "Please enter an integer: \n",
      "Looks like you did not enter an integer!\n",
      "Finally, I executed!\n",
      "Please enter an integer: \n",
      "Please enter an integer: \n",
      "Looks like you did not enter an integer!\n",
      "Finally, I executed!\n",
      "Please enter an integer: \n",
      "Looks like you did not enter an integer!\n",
      "Finally, I executed!\n",
      "Please enter an integer: \n",
      "Looks like you did not enter an integer!\n",
      "Finally, I executed!\n",
      "Looks like you did not enter an integer!\n",
      "Finally, I executed!\n",
      "Please enter an integer: 10\n",
      "Yep that's an integer!\n",
      "10\n",
      "Finally, I executed!\n"
     ]
    }
   ],
   "source": [
    "askint()"
   ]
  },
  {
   "cell_type": "markdown",
   "id": "85300e48",
   "metadata": {},
   "source": [
    "# Numpy"
   ]
  },
  {
   "cell_type": "code",
   "execution_count": 72,
   "id": "969c8035",
   "metadata": {},
   "outputs": [],
   "source": [
    "import numpy as np"
   ]
  },
  {
   "cell_type": "code",
   "execution_count": 73,
   "id": "3bf4b6f6",
   "metadata": {},
   "outputs": [
    {
     "data": {
      "text/plain": [
       "0.0"
      ]
     },
     "execution_count": 73,
     "metadata": {},
     "output_type": "execute_result"
    }
   ],
   "source": [
    "np.sin(0.0)"
   ]
  },
  {
   "cell_type": "code",
   "execution_count": 74,
   "id": "f418dce1",
   "metadata": {},
   "outputs": [
    {
     "data": {
      "text/plain": [
       "1"
      ]
     },
     "execution_count": 74,
     "metadata": {},
     "output_type": "execute_result"
    }
   ],
   "source": [
    "np.abs(-1)"
   ]
  },
  {
   "cell_type": "markdown",
   "id": "9c93ac13",
   "metadata": {},
   "source": [
    "## Creating Arrays"
   ]
  },
  {
   "cell_type": "code",
   "execution_count": 75,
   "id": "a7c9c144",
   "metadata": {},
   "outputs": [
    {
     "data": {
      "text/plain": [
       "numpy.ndarray"
      ]
     },
     "execution_count": 75,
     "metadata": {},
     "output_type": "execute_result"
    }
   ],
   "source": [
    "arr1 = np.array([1,2,4,5],'float32')\n",
    "\n",
    "type(arr1)"
   ]
  },
  {
   "cell_type": "code",
   "execution_count": 76,
   "id": "18806419",
   "metadata": {},
   "outputs": [
    {
     "data": {
      "text/plain": [
       "array([1., 2., 4., 5.], dtype=float32)"
      ]
     },
     "execution_count": 76,
     "metadata": {},
     "output_type": "execute_result"
    }
   ],
   "source": [
    "arr1"
   ]
  },
  {
   "cell_type": "code",
   "execution_count": 77,
   "id": "a32a22ff",
   "metadata": {},
   "outputs": [
    {
     "data": {
      "text/plain": [
       "array([0., 0.])"
      ]
     },
     "execution_count": 77,
     "metadata": {},
     "output_type": "execute_result"
    }
   ],
   "source": [
    "np.zeros(2)"
   ]
  },
  {
   "cell_type": "code",
   "execution_count": 78,
   "id": "e7b4df10",
   "metadata": {},
   "outputs": [
    {
     "data": {
      "text/plain": [
       "array([1., 1., 1., 1., 1.])"
      ]
     },
     "execution_count": 78,
     "metadata": {},
     "output_type": "execute_result"
    }
   ],
   "source": [
    "np.ones(5)"
   ]
  },
  {
   "cell_type": "code",
   "execution_count": 79,
   "id": "db5ee8d5",
   "metadata": {},
   "outputs": [
    {
     "data": {
      "text/plain": [
       "range(0, 10)"
      ]
     },
     "execution_count": 79,
     "metadata": {},
     "output_type": "execute_result"
    }
   ],
   "source": [
    "range(10)"
   ]
  },
  {
   "cell_type": "code",
   "execution_count": 80,
   "id": "c228f4b7",
   "metadata": {},
   "outputs": [
    {
     "data": {
      "text/plain": [
       "array([0. , 0.5, 1. , 1.5, 2. , 2.5, 3. , 3.5, 4. , 4.5, 5. , 5.5, 6. ,\n",
       "       6.5, 7. , 7.5, 8. , 8.5, 9. , 9.5])"
      ]
     },
     "execution_count": 80,
     "metadata": {},
     "output_type": "execute_result"
    }
   ],
   "source": [
    "np.arange(0,10,0.5)"
   ]
  },
  {
   "cell_type": "code",
   "execution_count": 81,
   "id": "a87f1156",
   "metadata": {},
   "outputs": [
    {
     "data": {
      "text/plain": [
       "array([  0.        ,   0.1001001 ,   0.2002002 ,   0.3003003 ,\n",
       "         0.4004004 ,   0.5005005 ,   0.6006006 ,   0.7007007 ,\n",
       "         0.8008008 ,   0.9009009 ,   1.001001  ,   1.1011011 ,\n",
       "         1.2012012 ,   1.3013013 ,   1.4014014 ,   1.5015015 ,\n",
       "         1.6016016 ,   1.7017017 ,   1.8018018 ,   1.9019019 ,\n",
       "         2.002002  ,   2.1021021 ,   2.2022022 ,   2.3023023 ,\n",
       "         2.4024024 ,   2.5025025 ,   2.6026026 ,   2.7027027 ,\n",
       "         2.8028028 ,   2.9029029 ,   3.003003  ,   3.1031031 ,\n",
       "         3.2032032 ,   3.3033033 ,   3.4034034 ,   3.5035035 ,\n",
       "         3.6036036 ,   3.7037037 ,   3.8038038 ,   3.9039039 ,\n",
       "         4.004004  ,   4.1041041 ,   4.2042042 ,   4.3043043 ,\n",
       "         4.4044044 ,   4.5045045 ,   4.6046046 ,   4.7047047 ,\n",
       "         4.8048048 ,   4.9049049 ,   5.00500501,   5.10510511,\n",
       "         5.20520521,   5.30530531,   5.40540541,   5.50550551,\n",
       "         5.60560561,   5.70570571,   5.80580581,   5.90590591,\n",
       "         6.00600601,   6.10610611,   6.20620621,   6.30630631,\n",
       "         6.40640641,   6.50650651,   6.60660661,   6.70670671,\n",
       "         6.80680681,   6.90690691,   7.00700701,   7.10710711,\n",
       "         7.20720721,   7.30730731,   7.40740741,   7.50750751,\n",
       "         7.60760761,   7.70770771,   7.80780781,   7.90790791,\n",
       "         8.00800801,   8.10810811,   8.20820821,   8.30830831,\n",
       "         8.40840841,   8.50850851,   8.60860861,   8.70870871,\n",
       "         8.80880881,   8.90890891,   9.00900901,   9.10910911,\n",
       "         9.20920921,   9.30930931,   9.40940941,   9.50950951,\n",
       "         9.60960961,   9.70970971,   9.80980981,   9.90990991,\n",
       "        10.01001001,  10.11011011,  10.21021021,  10.31031031,\n",
       "        10.41041041,  10.51051051,  10.61061061,  10.71071071,\n",
       "        10.81081081,  10.91091091,  11.01101101,  11.11111111,\n",
       "        11.21121121,  11.31131131,  11.41141141,  11.51151151,\n",
       "        11.61161161,  11.71171171,  11.81181181,  11.91191191,\n",
       "        12.01201201,  12.11211211,  12.21221221,  12.31231231,\n",
       "        12.41241241,  12.51251251,  12.61261261,  12.71271271,\n",
       "        12.81281281,  12.91291291,  13.01301301,  13.11311311,\n",
       "        13.21321321,  13.31331331,  13.41341341,  13.51351351,\n",
       "        13.61361361,  13.71371371,  13.81381381,  13.91391391,\n",
       "        14.01401401,  14.11411411,  14.21421421,  14.31431431,\n",
       "        14.41441441,  14.51451451,  14.61461461,  14.71471471,\n",
       "        14.81481481,  14.91491491,  15.01501502,  15.11511512,\n",
       "        15.21521522,  15.31531532,  15.41541542,  15.51551552,\n",
       "        15.61561562,  15.71571572,  15.81581582,  15.91591592,\n",
       "        16.01601602,  16.11611612,  16.21621622,  16.31631632,\n",
       "        16.41641642,  16.51651652,  16.61661662,  16.71671672,\n",
       "        16.81681682,  16.91691692,  17.01701702,  17.11711712,\n",
       "        17.21721722,  17.31731732,  17.41741742,  17.51751752,\n",
       "        17.61761762,  17.71771772,  17.81781782,  17.91791792,\n",
       "        18.01801802,  18.11811812,  18.21821822,  18.31831832,\n",
       "        18.41841842,  18.51851852,  18.61861862,  18.71871872,\n",
       "        18.81881882,  18.91891892,  19.01901902,  19.11911912,\n",
       "        19.21921922,  19.31931932,  19.41941942,  19.51951952,\n",
       "        19.61961962,  19.71971972,  19.81981982,  19.91991992,\n",
       "        20.02002002,  20.12012012,  20.22022022,  20.32032032,\n",
       "        20.42042042,  20.52052052,  20.62062062,  20.72072072,\n",
       "        20.82082082,  20.92092092,  21.02102102,  21.12112112,\n",
       "        21.22122122,  21.32132132,  21.42142142,  21.52152152,\n",
       "        21.62162162,  21.72172172,  21.82182182,  21.92192192,\n",
       "        22.02202202,  22.12212212,  22.22222222,  22.32232232,\n",
       "        22.42242242,  22.52252252,  22.62262262,  22.72272272,\n",
       "        22.82282282,  22.92292292,  23.02302302,  23.12312312,\n",
       "        23.22322322,  23.32332332,  23.42342342,  23.52352352,\n",
       "        23.62362362,  23.72372372,  23.82382382,  23.92392392,\n",
       "        24.02402402,  24.12412412,  24.22422422,  24.32432432,\n",
       "        24.42442442,  24.52452452,  24.62462462,  24.72472472,\n",
       "        24.82482482,  24.92492492,  25.02502503,  25.12512513,\n",
       "        25.22522523,  25.32532533,  25.42542543,  25.52552553,\n",
       "        25.62562563,  25.72572573,  25.82582583,  25.92592593,\n",
       "        26.02602603,  26.12612613,  26.22622623,  26.32632633,\n",
       "        26.42642643,  26.52652653,  26.62662663,  26.72672673,\n",
       "        26.82682683,  26.92692693,  27.02702703,  27.12712713,\n",
       "        27.22722723,  27.32732733,  27.42742743,  27.52752753,\n",
       "        27.62762763,  27.72772773,  27.82782783,  27.92792793,\n",
       "        28.02802803,  28.12812813,  28.22822823,  28.32832833,\n",
       "        28.42842843,  28.52852853,  28.62862863,  28.72872873,\n",
       "        28.82882883,  28.92892893,  29.02902903,  29.12912913,\n",
       "        29.22922923,  29.32932933,  29.42942943,  29.52952953,\n",
       "        29.62962963,  29.72972973,  29.82982983,  29.92992993,\n",
       "        30.03003003,  30.13013013,  30.23023023,  30.33033033,\n",
       "        30.43043043,  30.53053053,  30.63063063,  30.73073073,\n",
       "        30.83083083,  30.93093093,  31.03103103,  31.13113113,\n",
       "        31.23123123,  31.33133133,  31.43143143,  31.53153153,\n",
       "        31.63163163,  31.73173173,  31.83183183,  31.93193193,\n",
       "        32.03203203,  32.13213213,  32.23223223,  32.33233233,\n",
       "        32.43243243,  32.53253253,  32.63263263,  32.73273273,\n",
       "        32.83283283,  32.93293293,  33.03303303,  33.13313313,\n",
       "        33.23323323,  33.33333333,  33.43343343,  33.53353353,\n",
       "        33.63363363,  33.73373373,  33.83383383,  33.93393393,\n",
       "        34.03403403,  34.13413413,  34.23423423,  34.33433433,\n",
       "        34.43443443,  34.53453453,  34.63463463,  34.73473473,\n",
       "        34.83483483,  34.93493493,  35.03503504,  35.13513514,\n",
       "        35.23523524,  35.33533534,  35.43543544,  35.53553554,\n",
       "        35.63563564,  35.73573574,  35.83583584,  35.93593594,\n",
       "        36.03603604,  36.13613614,  36.23623624,  36.33633634,\n",
       "        36.43643644,  36.53653654,  36.63663664,  36.73673674,\n",
       "        36.83683684,  36.93693694,  37.03703704,  37.13713714,\n",
       "        37.23723724,  37.33733734,  37.43743744,  37.53753754,\n",
       "        37.63763764,  37.73773774,  37.83783784,  37.93793794,\n",
       "        38.03803804,  38.13813814,  38.23823824,  38.33833834,\n",
       "        38.43843844,  38.53853854,  38.63863864,  38.73873874,\n",
       "        38.83883884,  38.93893894,  39.03903904,  39.13913914,\n",
       "        39.23923924,  39.33933934,  39.43943944,  39.53953954,\n",
       "        39.63963964,  39.73973974,  39.83983984,  39.93993994,\n",
       "        40.04004004,  40.14014014,  40.24024024,  40.34034034,\n",
       "        40.44044044,  40.54054054,  40.64064064,  40.74074074,\n",
       "        40.84084084,  40.94094094,  41.04104104,  41.14114114,\n",
       "        41.24124124,  41.34134134,  41.44144144,  41.54154154,\n",
       "        41.64164164,  41.74174174,  41.84184184,  41.94194194,\n",
       "        42.04204204,  42.14214214,  42.24224224,  42.34234234,\n",
       "        42.44244244,  42.54254254,  42.64264264,  42.74274274,\n",
       "        42.84284284,  42.94294294,  43.04304304,  43.14314314,\n",
       "        43.24324324,  43.34334334,  43.44344344,  43.54354354,\n",
       "        43.64364364,  43.74374374,  43.84384384,  43.94394394,\n",
       "        44.04404404,  44.14414414,  44.24424424,  44.34434434,\n",
       "        44.44444444,  44.54454454,  44.64464464,  44.74474474,\n",
       "        44.84484484,  44.94494494,  45.04504505,  45.14514515,\n",
       "        45.24524525,  45.34534535,  45.44544545,  45.54554555,\n",
       "        45.64564565,  45.74574575,  45.84584585,  45.94594595,\n",
       "        46.04604605,  46.14614615,  46.24624625,  46.34634635,\n",
       "        46.44644645,  46.54654655,  46.64664665,  46.74674675,\n",
       "        46.84684685,  46.94694695,  47.04704705,  47.14714715,\n",
       "        47.24724725,  47.34734735,  47.44744745,  47.54754755,\n",
       "        47.64764765,  47.74774775,  47.84784785,  47.94794795,\n",
       "        48.04804805,  48.14814815,  48.24824825,  48.34834835,\n",
       "        48.44844845,  48.54854855,  48.64864865,  48.74874875,\n",
       "        48.84884885,  48.94894895,  49.04904905,  49.14914915,\n",
       "        49.24924925,  49.34934935,  49.44944945,  49.54954955,\n",
       "        49.64964965,  49.74974975,  49.84984985,  49.94994995,\n",
       "        50.05005005,  50.15015015,  50.25025025,  50.35035035,\n",
       "        50.45045045,  50.55055055,  50.65065065,  50.75075075,\n",
       "        50.85085085,  50.95095095,  51.05105105,  51.15115115,\n",
       "        51.25125125,  51.35135135,  51.45145145,  51.55155155,\n",
       "        51.65165165,  51.75175175,  51.85185185,  51.95195195,\n",
       "        52.05205205,  52.15215215,  52.25225225,  52.35235235,\n",
       "        52.45245245,  52.55255255,  52.65265265,  52.75275275,\n",
       "        52.85285285,  52.95295295,  53.05305305,  53.15315315,\n",
       "        53.25325325,  53.35335335,  53.45345345,  53.55355355,\n",
       "        53.65365365,  53.75375375,  53.85385385,  53.95395395,\n",
       "        54.05405405,  54.15415415,  54.25425425,  54.35435435,\n",
       "        54.45445445,  54.55455455,  54.65465465,  54.75475475,\n",
       "        54.85485485,  54.95495495,  55.05505506,  55.15515516,\n",
       "        55.25525526,  55.35535536,  55.45545546,  55.55555556,\n",
       "        55.65565566,  55.75575576,  55.85585586,  55.95595596,\n",
       "        56.05605606,  56.15615616,  56.25625626,  56.35635636,\n",
       "        56.45645646,  56.55655656,  56.65665666,  56.75675676,\n",
       "        56.85685686,  56.95695696,  57.05705706,  57.15715716,\n",
       "        57.25725726,  57.35735736,  57.45745746,  57.55755756,\n",
       "        57.65765766,  57.75775776,  57.85785786,  57.95795796,\n",
       "        58.05805806,  58.15815816,  58.25825826,  58.35835836,\n",
       "        58.45845846,  58.55855856,  58.65865866,  58.75875876,\n",
       "        58.85885886,  58.95895896,  59.05905906,  59.15915916,\n",
       "        59.25925926,  59.35935936,  59.45945946,  59.55955956,\n",
       "        59.65965966,  59.75975976,  59.85985986,  59.95995996,\n",
       "        60.06006006,  60.16016016,  60.26026026,  60.36036036,\n",
       "        60.46046046,  60.56056056,  60.66066066,  60.76076076,\n",
       "        60.86086086,  60.96096096,  61.06106106,  61.16116116,\n",
       "        61.26126126,  61.36136136,  61.46146146,  61.56156156,\n",
       "        61.66166166,  61.76176176,  61.86186186,  61.96196196,\n",
       "        62.06206206,  62.16216216,  62.26226226,  62.36236236,\n",
       "        62.46246246,  62.56256256,  62.66266266,  62.76276276,\n",
       "        62.86286286,  62.96296296,  63.06306306,  63.16316316,\n",
       "        63.26326326,  63.36336336,  63.46346346,  63.56356356,\n",
       "        63.66366366,  63.76376376,  63.86386386,  63.96396396,\n",
       "        64.06406406,  64.16416416,  64.26426426,  64.36436436,\n",
       "        64.46446446,  64.56456456,  64.66466466,  64.76476476,\n",
       "        64.86486486,  64.96496496,  65.06506507,  65.16516517,\n",
       "        65.26526527,  65.36536537,  65.46546547,  65.56556557,\n",
       "        65.66566567,  65.76576577,  65.86586587,  65.96596597,\n",
       "        66.06606607,  66.16616617,  66.26626627,  66.36636637,\n",
       "        66.46646647,  66.56656657,  66.66666667,  66.76676677,\n",
       "        66.86686687,  66.96696697,  67.06706707,  67.16716717,\n",
       "        67.26726727,  67.36736737,  67.46746747,  67.56756757,\n",
       "        67.66766767,  67.76776777,  67.86786787,  67.96796797,\n",
       "        68.06806807,  68.16816817,  68.26826827,  68.36836837,\n",
       "        68.46846847,  68.56856857,  68.66866867,  68.76876877,\n",
       "        68.86886887,  68.96896897,  69.06906907,  69.16916917,\n",
       "        69.26926927,  69.36936937,  69.46946947,  69.56956957,\n",
       "        69.66966967,  69.76976977,  69.86986987,  69.96996997,\n",
       "        70.07007007,  70.17017017,  70.27027027,  70.37037037,\n",
       "        70.47047047,  70.57057057,  70.67067067,  70.77077077,\n",
       "        70.87087087,  70.97097097,  71.07107107,  71.17117117,\n",
       "        71.27127127,  71.37137137,  71.47147147,  71.57157157,\n",
       "        71.67167167,  71.77177177,  71.87187187,  71.97197197,\n",
       "        72.07207207,  72.17217217,  72.27227227,  72.37237237,\n",
       "        72.47247247,  72.57257257,  72.67267267,  72.77277277,\n",
       "        72.87287287,  72.97297297,  73.07307307,  73.17317317,\n",
       "        73.27327327,  73.37337337,  73.47347347,  73.57357357,\n",
       "        73.67367367,  73.77377377,  73.87387387,  73.97397397,\n",
       "        74.07407407,  74.17417417,  74.27427427,  74.37437437,\n",
       "        74.47447447,  74.57457457,  74.67467467,  74.77477477,\n",
       "        74.87487487,  74.97497497,  75.07507508,  75.17517518,\n",
       "        75.27527528,  75.37537538,  75.47547548,  75.57557558,\n",
       "        75.67567568,  75.77577578,  75.87587588,  75.97597598,\n",
       "        76.07607608,  76.17617618,  76.27627628,  76.37637638,\n",
       "        76.47647648,  76.57657658,  76.67667668,  76.77677678,\n",
       "        76.87687688,  76.97697698,  77.07707708,  77.17717718,\n",
       "        77.27727728,  77.37737738,  77.47747748,  77.57757758,\n",
       "        77.67767768,  77.77777778,  77.87787788,  77.97797798,\n",
       "        78.07807808,  78.17817818,  78.27827828,  78.37837838,\n",
       "        78.47847848,  78.57857858,  78.67867868,  78.77877878,\n",
       "        78.87887888,  78.97897898,  79.07907908,  79.17917918,\n",
       "        79.27927928,  79.37937938,  79.47947948,  79.57957958,\n",
       "        79.67967968,  79.77977978,  79.87987988,  79.97997998,\n",
       "        80.08008008,  80.18018018,  80.28028028,  80.38038038,\n",
       "        80.48048048,  80.58058058,  80.68068068,  80.78078078,\n",
       "        80.88088088,  80.98098098,  81.08108108,  81.18118118,\n",
       "        81.28128128,  81.38138138,  81.48148148,  81.58158158,\n",
       "        81.68168168,  81.78178178,  81.88188188,  81.98198198,\n",
       "        82.08208208,  82.18218218,  82.28228228,  82.38238238,\n",
       "        82.48248248,  82.58258258,  82.68268268,  82.78278278,\n",
       "        82.88288288,  82.98298298,  83.08308308,  83.18318318,\n",
       "        83.28328328,  83.38338338,  83.48348348,  83.58358358,\n",
       "        83.68368368,  83.78378378,  83.88388388,  83.98398398,\n",
       "        84.08408408,  84.18418418,  84.28428428,  84.38438438,\n",
       "        84.48448448,  84.58458458,  84.68468468,  84.78478478,\n",
       "        84.88488488,  84.98498498,  85.08508509,  85.18518519,\n",
       "        85.28528529,  85.38538539,  85.48548549,  85.58558559,\n",
       "        85.68568569,  85.78578579,  85.88588589,  85.98598599,\n",
       "        86.08608609,  86.18618619,  86.28628629,  86.38638639,\n",
       "        86.48648649,  86.58658659,  86.68668669,  86.78678679,\n",
       "        86.88688689,  86.98698699,  87.08708709,  87.18718719,\n",
       "        87.28728729,  87.38738739,  87.48748749,  87.58758759,\n",
       "        87.68768769,  87.78778779,  87.88788789,  87.98798799,\n",
       "        88.08808809,  88.18818819,  88.28828829,  88.38838839,\n",
       "        88.48848849,  88.58858859,  88.68868869,  88.78878879,\n",
       "        88.88888889,  88.98898899,  89.08908909,  89.18918919,\n",
       "        89.28928929,  89.38938939,  89.48948949,  89.58958959,\n",
       "        89.68968969,  89.78978979,  89.88988989,  89.98998999,\n",
       "        90.09009009,  90.19019019,  90.29029029,  90.39039039,\n",
       "        90.49049049,  90.59059059,  90.69069069,  90.79079079,\n",
       "        90.89089089,  90.99099099,  91.09109109,  91.19119119,\n",
       "        91.29129129,  91.39139139,  91.49149149,  91.59159159,\n",
       "        91.69169169,  91.79179179,  91.89189189,  91.99199199,\n",
       "        92.09209209,  92.19219219,  92.29229229,  92.39239239,\n",
       "        92.49249249,  92.59259259,  92.69269269,  92.79279279,\n",
       "        92.89289289,  92.99299299,  93.09309309,  93.19319319,\n",
       "        93.29329329,  93.39339339,  93.49349349,  93.59359359,\n",
       "        93.69369369,  93.79379379,  93.89389389,  93.99399399,\n",
       "        94.09409409,  94.19419419,  94.29429429,  94.39439439,\n",
       "        94.49449449,  94.59459459,  94.69469469,  94.79479479,\n",
       "        94.89489489,  94.99499499,  95.0950951 ,  95.1951952 ,\n",
       "        95.2952953 ,  95.3953954 ,  95.4954955 ,  95.5955956 ,\n",
       "        95.6956957 ,  95.7957958 ,  95.8958959 ,  95.995996  ,\n",
       "        96.0960961 ,  96.1961962 ,  96.2962963 ,  96.3963964 ,\n",
       "        96.4964965 ,  96.5965966 ,  96.6966967 ,  96.7967968 ,\n",
       "        96.8968969 ,  96.996997  ,  97.0970971 ,  97.1971972 ,\n",
       "        97.2972973 ,  97.3973974 ,  97.4974975 ,  97.5975976 ,\n",
       "        97.6976977 ,  97.7977978 ,  97.8978979 ,  97.997998  ,\n",
       "        98.0980981 ,  98.1981982 ,  98.2982983 ,  98.3983984 ,\n",
       "        98.4984985 ,  98.5985986 ,  98.6986987 ,  98.7987988 ,\n",
       "        98.8988989 ,  98.998999  ,  99.0990991 ,  99.1991992 ,\n",
       "        99.2992993 ,  99.3993994 ,  99.4994995 ,  99.5995996 ,\n",
       "        99.6996997 ,  99.7997998 ,  99.8998999 , 100.        ])"
      ]
     },
     "execution_count": 81,
     "metadata": {},
     "output_type": "execute_result"
    }
   ],
   "source": [
    "np.linspace(0,100,1000)"
   ]
  },
  {
   "cell_type": "markdown",
   "id": "613e2562",
   "metadata": {},
   "source": [
    "## Array Shapes"
   ]
  },
  {
   "cell_type": "markdown",
   "id": "bdb4610e",
   "metadata": {},
   "source": [
    "![array](https://miro.medium.com/v2/resize:fit:640/format:webp/0*Vh-pKXTJsdL-9FT0.png)"
   ]
  },
  {
   "cell_type": "code",
   "execution_count": 82,
   "id": "2f00e949",
   "metadata": {},
   "outputs": [],
   "source": [
    "array_example = np.array([[[0, 1, 2, 3],\n",
    "                           [4, 5, 6, 7]],\n",
    "                          [[8, 9, 10, 11],\n",
    "                           [12, 13, 14, 15]],\n",
    "                          [[16 ,17, 18, 19],\n",
    "                           [20, 21, 22, 23]]])"
   ]
  },
  {
   "cell_type": "code",
   "execution_count": 83,
   "id": "116a6de7",
   "metadata": {},
   "outputs": [
    {
     "data": {
      "text/plain": [
       "(3, 2, 4)"
      ]
     },
     "execution_count": 83,
     "metadata": {},
     "output_type": "execute_result"
    }
   ],
   "source": [
    "array_example.shape"
   ]
  },
  {
   "cell_type": "code",
   "execution_count": 84,
   "id": "d98ad547",
   "metadata": {},
   "outputs": [
    {
     "data": {
      "text/plain": [
       "24"
      ]
     },
     "execution_count": 84,
     "metadata": {},
     "output_type": "execute_result"
    }
   ],
   "source": [
    "array_example.size"
   ]
  },
  {
   "cell_type": "code",
   "execution_count": 85,
   "id": "3d40d6f1",
   "metadata": {},
   "outputs": [
    {
     "data": {
      "text/plain": [
       "array([[ 0,  1,  2],\n",
       "       [ 3,  4,  5],\n",
       "       [ 6,  7,  8],\n",
       "       [ 9, 10, 11],\n",
       "       [12, 13, 14],\n",
       "       [15, 16, 17],\n",
       "       [18, 19, 20],\n",
       "       [21, 22, 23]])"
      ]
     },
     "execution_count": 85,
     "metadata": {},
     "output_type": "execute_result"
    }
   ],
   "source": [
    "array_example.reshape(8,3)"
   ]
  },
  {
   "cell_type": "code",
   "execution_count": 86,
   "id": "ce1de571",
   "metadata": {},
   "outputs": [],
   "source": [
    "ex = np.linspace(0,10,25)"
   ]
  },
  {
   "cell_type": "code",
   "execution_count": 87,
   "id": "179f6a31",
   "metadata": {},
   "outputs": [
    {
     "data": {
      "text/plain": [
       "array([[ 0.        ,  0.41666667,  0.83333333,  1.25      ,  1.66666667],\n",
       "       [ 2.08333333,  2.5       ,  2.91666667,  3.33333333,  3.75      ],\n",
       "       [ 4.16666667,  4.58333333,  5.        ,  5.41666667,  5.83333333],\n",
       "       [ 6.25      ,  6.66666667,  7.08333333,  7.5       ,  7.91666667],\n",
       "       [ 8.33333333,  8.75      ,  9.16666667,  9.58333333, 10.        ]])"
      ]
     },
     "execution_count": 87,
     "metadata": {},
     "output_type": "execute_result"
    }
   ],
   "source": [
    "ex.reshape(5,5)"
   ]
  },
  {
   "cell_type": "code",
   "execution_count": 88,
   "id": "683b2990",
   "metadata": {},
   "outputs": [],
   "source": [
    "arr = np.array([5,6 ,8, 2, 4, 7, 1])"
   ]
  },
  {
   "cell_type": "code",
   "execution_count": 89,
   "id": "388b9ecd",
   "metadata": {},
   "outputs": [
    {
     "data": {
      "text/plain": [
       "array([1, 2, 4, 5, 6, 7, 8])"
      ]
     },
     "execution_count": 89,
     "metadata": {},
     "output_type": "execute_result"
    }
   ],
   "source": [
    "np.sort(arr)"
   ]
  },
  {
   "cell_type": "code",
   "execution_count": 90,
   "id": "15ac4f27",
   "metadata": {},
   "outputs": [
    {
     "data": {
      "text/plain": [
       "array([[ 3,  7],\n",
       "       [11, 15],\n",
       "       [19, 23]])"
      ]
     },
     "execution_count": 90,
     "metadata": {},
     "output_type": "execute_result"
    }
   ],
   "source": [
    "array_example.max(axis = 2)"
   ]
  },
  {
   "cell_type": "code",
   "execution_count": 91,
   "id": "831735cf",
   "metadata": {},
   "outputs": [
    {
     "data": {
      "text/plain": [
       "array([1, 2, 3, 4, 5, 6, 7, 8, 9])"
      ]
     },
     "execution_count": 91,
     "metadata": {},
     "output_type": "execute_result"
    }
   ],
   "source": [
    "a = np.array([1,2,3,4])\n",
    "b = np.array([5,6,7,8,9])\n",
    "\n",
    "np.concatenate((a,b))"
   ]
  },
  {
   "cell_type": "code",
   "execution_count": 92,
   "id": "91e50123",
   "metadata": {},
   "outputs": [
    {
     "data": {
      "text/plain": [
       "array([[1, 2],\n",
       "       [3, 4],\n",
       "       [5, 6]])"
      ]
     },
     "execution_count": 92,
     "metadata": {},
     "output_type": "execute_result"
    }
   ],
   "source": [
    "a = np.array([[1, 2], [3, 4]])\n",
    "b = np.array([[5, 6]])\n",
    "\n",
    "np.concatenate((a,b), axis=0)"
   ]
  },
  {
   "cell_type": "code",
   "execution_count": 93,
   "id": "ec8ed2ec",
   "metadata": {},
   "outputs": [],
   "source": [
    "a = np.array([[1, 2], [3, 4]])\n",
    "b = np.array([[5, 6], [7, 8]])"
   ]
  },
  {
   "cell_type": "code",
   "execution_count": 94,
   "id": "f8a67f66",
   "metadata": {},
   "outputs": [
    {
     "data": {
      "text/plain": [
       "array([[1, 2],\n",
       "       [3, 4],\n",
       "       [5, 6],\n",
       "       [7, 8]])"
      ]
     },
     "execution_count": 94,
     "metadata": {},
     "output_type": "execute_result"
    }
   ],
   "source": [
    "np.vstack((a,b))"
   ]
  },
  {
   "cell_type": "code",
   "execution_count": 95,
   "id": "99616795",
   "metadata": {},
   "outputs": [
    {
     "data": {
      "text/plain": [
       "array([[1, 2, 5, 6],\n",
       "       [3, 4, 7, 8]])"
      ]
     },
     "execution_count": 95,
     "metadata": {},
     "output_type": "execute_result"
    }
   ],
   "source": [
    "np.hstack((a,b))"
   ]
  },
  {
   "cell_type": "code",
   "execution_count": 96,
   "id": "f3d79571",
   "metadata": {},
   "outputs": [
    {
     "data": {
      "text/plain": [
       "(8,)"
      ]
     },
     "execution_count": 96,
     "metadata": {},
     "output_type": "execute_result"
    }
   ],
   "source": [
    "a = np.array([1,2,3,4,5,6,7,8])\n",
    "a.shape"
   ]
  },
  {
   "cell_type": "code",
   "execution_count": 97,
   "id": "993c3408",
   "metadata": {},
   "outputs": [
    {
     "data": {
      "text/plain": [
       "(8, 1)"
      ]
     },
     "execution_count": 97,
     "metadata": {},
     "output_type": "execute_result"
    }
   ],
   "source": [
    "b = np.expand_dims(a, axis = 1)\n",
    "b.shape"
   ]
  },
  {
   "cell_type": "code",
   "execution_count": 98,
   "id": "bb15c9aa",
   "metadata": {},
   "outputs": [
    {
     "data": {
      "text/plain": [
       "(1, 8)"
      ]
     },
     "execution_count": 98,
     "metadata": {},
     "output_type": "execute_result"
    }
   ],
   "source": [
    "b = np.expand_dims(a, axis = 0)\n",
    "b.shape"
   ]
  },
  {
   "cell_type": "code",
   "execution_count": 99,
   "id": "d2ba0857",
   "metadata": {},
   "outputs": [
    {
     "data": {
      "text/plain": [
       "0"
      ]
     },
     "execution_count": 99,
     "metadata": {},
     "output_type": "execute_result"
    }
   ],
   "source": [
    "array_example[0][0][0]"
   ]
  },
  {
   "cell_type": "markdown",
   "id": "1215c2a0",
   "metadata": {},
   "source": [
    "## Array Indexing"
   ]
  },
  {
   "cell_type": "code",
   "execution_count": 100,
   "id": "7f6b6e2c",
   "metadata": {},
   "outputs": [
    {
     "data": {
      "text/plain": [
       "2"
      ]
     },
     "execution_count": 100,
     "metadata": {},
     "output_type": "execute_result"
    }
   ],
   "source": [
    "data = np.array([1, 2, 3])\n",
    "data[1]"
   ]
  },
  {
   "cell_type": "code",
   "execution_count": 101,
   "id": "4af42624",
   "metadata": {},
   "outputs": [
    {
     "data": {
      "text/plain": [
       "array([1, 2])"
      ]
     },
     "execution_count": 101,
     "metadata": {},
     "output_type": "execute_result"
    }
   ],
   "source": [
    "data[0:2]"
   ]
  },
  {
   "cell_type": "code",
   "execution_count": 102,
   "id": "9efda03e",
   "metadata": {},
   "outputs": [
    {
     "data": {
      "text/plain": [
       "array([2, 3])"
      ]
     },
     "execution_count": 102,
     "metadata": {},
     "output_type": "execute_result"
    }
   ],
   "source": [
    "data[1:]"
   ]
  },
  {
   "cell_type": "code",
   "execution_count": 103,
   "id": "59bc39f6",
   "metadata": {},
   "outputs": [
    {
     "data": {
      "text/plain": [
       "array([2, 3])"
      ]
     },
     "execution_count": 103,
     "metadata": {},
     "output_type": "execute_result"
    }
   ],
   "source": [
    "data[-2:]"
   ]
  },
  {
   "cell_type": "code",
   "execution_count": 104,
   "id": "38618fae",
   "metadata": {},
   "outputs": [],
   "source": [
    "a = np.array([[1 , 2, 3, 4], [5, 6, 7, 8], [9, 10, 11, 12]])"
   ]
  },
  {
   "cell_type": "code",
   "execution_count": 105,
   "id": "43d74287",
   "metadata": {},
   "outputs": [
    {
     "data": {
      "text/plain": [
       "array([[ True,  True,  True,  True],\n",
       "       [False, False, False, False],\n",
       "       [False, False, False, False]])"
      ]
     },
     "execution_count": 105,
     "metadata": {},
     "output_type": "execute_result"
    }
   ],
   "source": [
    "a<5"
   ]
  },
  {
   "cell_type": "code",
   "execution_count": 106,
   "id": "b4dac068",
   "metadata": {},
   "outputs": [
    {
     "name": "stdout",
     "output_type": "stream",
     "text": [
      "[1 2 3 4]\n"
     ]
    }
   ],
   "source": [
    "print(a[a < 5])"
   ]
  },
  {
   "cell_type": "code",
   "execution_count": 107,
   "id": "00811d13",
   "metadata": {},
   "outputs": [
    {
     "name": "stdout",
     "output_type": "stream",
     "text": [
      "[ 5  6  7  8  9 10 11 12]\n"
     ]
    }
   ],
   "source": [
    "five_up = (a >= 5)\n",
    "print(a[five_up])"
   ]
  },
  {
   "cell_type": "code",
   "execution_count": 108,
   "id": "7e2ce725",
   "metadata": {},
   "outputs": [
    {
     "name": "stdout",
     "output_type": "stream",
     "text": [
      "[ 3  4  5  6  7  8  9 10]\n"
     ]
    }
   ],
   "source": [
    "c = a[(a > 2) & (a < 11)]\n",
    "\n",
    "print(c)"
   ]
  },
  {
   "cell_type": "code",
   "execution_count": 109,
   "id": "15635cec",
   "metadata": {},
   "outputs": [
    {
     "name": "stdout",
     "output_type": "stream",
     "text": [
      "[[False False False False]\n",
      " [ True  True  True  True]\n",
      " [ True  True  True  True]]\n"
     ]
    }
   ],
   "source": [
    "five_up = (a > 5) | (a == 5)\n",
    "\n",
    "print(five_up)"
   ]
  },
  {
   "cell_type": "code",
   "execution_count": 110,
   "id": "1de50217",
   "metadata": {},
   "outputs": [],
   "source": [
    "a = np.array([[[1,2,3],\n",
    "               [4,5,6]],\n",
    "             \n",
    "               [[7,8,9],\n",
    "               [10,11,12]]])"
   ]
  },
  {
   "cell_type": "code",
   "execution_count": 111,
   "id": "623963db",
   "metadata": {},
   "outputs": [
    {
     "data": {
      "text/plain": [
       "9"
      ]
     },
     "execution_count": 111,
     "metadata": {},
     "output_type": "execute_result"
    }
   ],
   "source": [
    "a[1,0,2]"
   ]
  },
  {
   "cell_type": "code",
   "execution_count": 112,
   "id": "731b22a0",
   "metadata": {},
   "outputs": [
    {
     "data": {
      "text/plain": [
       "array([1, 7])"
      ]
     },
     "execution_count": 112,
     "metadata": {},
     "output_type": "execute_result"
    }
   ],
   "source": [
    "a[:,0,0]"
   ]
  },
  {
   "cell_type": "code",
   "execution_count": 113,
   "id": "d3061100",
   "metadata": {},
   "outputs": [
    {
     "data": {
      "text/plain": [
       "array([1, 4])"
      ]
     },
     "execution_count": 113,
     "metadata": {},
     "output_type": "execute_result"
    }
   ],
   "source": [
    "a[0,:,0]"
   ]
  },
  {
   "cell_type": "code",
   "execution_count": 114,
   "id": "21a33f0c",
   "metadata": {},
   "outputs": [
    {
     "data": {
      "text/plain": [
       "array([1, 2, 3])"
      ]
     },
     "execution_count": 114,
     "metadata": {},
     "output_type": "execute_result"
    }
   ],
   "source": [
    "a[0,0,:]"
   ]
  },
  {
   "cell_type": "code",
   "execution_count": 115,
   "id": "99eb7513",
   "metadata": {},
   "outputs": [
    {
     "data": {
      "text/plain": [
       "array([[8, 9]])"
      ]
     },
     "execution_count": 115,
     "metadata": {},
     "output_type": "execute_result"
    }
   ],
   "source": [
    "a[1:, 0, -2:]"
   ]
  },
  {
   "cell_type": "markdown",
   "id": "46184002",
   "metadata": {},
   "source": [
    "## Array Operations"
   ]
  },
  {
   "cell_type": "code",
   "execution_count": 116,
   "id": "ad3b6949",
   "metadata": {},
   "outputs": [
    {
     "data": {
      "text/plain": [
       "array([[2, 3],\n",
       "       [4, 5]])"
      ]
     },
     "execution_count": 116,
     "metadata": {},
     "output_type": "execute_result"
    }
   ],
   "source": [
    "data = np.array([[1, 2], [3, 4]])\n",
    "\n",
    "ones = np.ones((2,2), dtype=int)\n",
    "\n",
    "data + ones"
   ]
  },
  {
   "cell_type": "code",
   "execution_count": 117,
   "id": "b28de743",
   "metadata": {},
   "outputs": [
    {
     "data": {
      "text/plain": [
       "array([[2, 3],\n",
       "       [4, 5]])"
      ]
     },
     "execution_count": 117,
     "metadata": {},
     "output_type": "execute_result"
    }
   ],
   "source": [
    "data + 1"
   ]
  },
  {
   "cell_type": "code",
   "execution_count": 118,
   "id": "f31a5aa7",
   "metadata": {},
   "outputs": [
    {
     "data": {
      "text/plain": [
       "array([[0, 1],\n",
       "       [2, 3]])"
      ]
     },
     "execution_count": 118,
     "metadata": {},
     "output_type": "execute_result"
    }
   ],
   "source": [
    "data - ones"
   ]
  },
  {
   "cell_type": "code",
   "execution_count": 119,
   "id": "8bdf3302",
   "metadata": {},
   "outputs": [
    {
     "data": {
      "text/plain": [
       "array([[ 1,  4],\n",
       "       [ 9, 16]])"
      ]
     },
     "execution_count": 119,
     "metadata": {},
     "output_type": "execute_result"
    }
   ],
   "source": [
    "data * data"
   ]
  },
  {
   "cell_type": "code",
   "execution_count": 120,
   "id": "8d2fe63a",
   "metadata": {},
   "outputs": [
    {
     "data": {
      "text/plain": [
       "array([[ 9, 18],\n",
       "       [27, 36]])"
      ]
     },
     "execution_count": 120,
     "metadata": {},
     "output_type": "execute_result"
    }
   ],
   "source": [
    "data * 9"
   ]
  },
  {
   "cell_type": "code",
   "execution_count": 121,
   "id": "707b22c3",
   "metadata": {},
   "outputs": [
    {
     "data": {
      "text/plain": [
       "array([[1., 1.],\n",
       "       [1., 1.]])"
      ]
     },
     "execution_count": 121,
     "metadata": {},
     "output_type": "execute_result"
    }
   ],
   "source": [
    "data / data"
   ]
  },
  {
   "cell_type": "code",
   "execution_count": 122,
   "id": "ee8a8607",
   "metadata": {},
   "outputs": [
    {
     "data": {
      "text/plain": [
       "10"
      ]
     },
     "execution_count": 122,
     "metadata": {},
     "output_type": "execute_result"
    }
   ],
   "source": [
    "data.sum()"
   ]
  },
  {
   "cell_type": "code",
   "execution_count": 123,
   "id": "a8a9f4bc",
   "metadata": {},
   "outputs": [
    {
     "data": {
      "text/plain": [
       "4"
      ]
     },
     "execution_count": 123,
     "metadata": {},
     "output_type": "execute_result"
    }
   ],
   "source": [
    "data.max()"
   ]
  },
  {
   "cell_type": "code",
   "execution_count": 124,
   "id": "258e274c",
   "metadata": {},
   "outputs": [
    {
     "data": {
      "text/plain": [
       "1"
      ]
     },
     "execution_count": 124,
     "metadata": {},
     "output_type": "execute_result"
    }
   ],
   "source": [
    "data.min()"
   ]
  },
  {
   "cell_type": "code",
   "execution_count": 125,
   "id": "efe6fd67",
   "metadata": {},
   "outputs": [
    {
     "data": {
      "text/plain": [
       "array([[1, 3],\n",
       "       [2, 4]])"
      ]
     },
     "execution_count": 125,
     "metadata": {},
     "output_type": "execute_result"
    }
   ],
   "source": [
    "data.T"
   ]
  },
  {
   "cell_type": "code",
   "execution_count": 126,
   "id": "9671b72a",
   "metadata": {},
   "outputs": [
    {
     "data": {
      "text/plain": [
       "array([1, 2, 3, 4])"
      ]
     },
     "execution_count": 126,
     "metadata": {},
     "output_type": "execute_result"
    }
   ],
   "source": [
    "data.flatten()"
   ]
  },
  {
   "cell_type": "code",
   "execution_count": 127,
   "id": "bbaf012b",
   "metadata": {
    "scrolled": false
   },
   "outputs": [
    {
     "data": {
      "text/plain": [
       "array([1, 2, 3, 4])"
      ]
     },
     "execution_count": 127,
     "metadata": {},
     "output_type": "execute_result"
    }
   ],
   "source": [
    "data.ravel()"
   ]
  },
  {
   "cell_type": "markdown",
   "id": "73f9b6ca",
   "metadata": {},
   "source": [
    "## Mathematical Forumlae"
   ]
  },
  {
   "cell_type": "markdown",
   "id": "defac155",
   "metadata": {},
   "source": [
    "The ease of implementing mathematical formulas that work on arrays is one of the things that make NumPy so widely used in the scientific Python community.\n",
    "\n",
    "For example, this is the mean square error formula (a central formula used in supervised machine learning models that deal with regression):\n",
    "\n",
    "![mse](https://numpy.org/doc/stable/_images/np_MSE_formula.png)\n",
    "\n",
    "Implementing this formula is simple and straightforward in NumPy:\n",
    "\n",
    "![mse_np](https://numpy.org/doc/stable/_images/np_MSE_implementation.png)\n",
    "\n",
    "What makes this work so well is that predictions and labels can contain one or a thousand values. They only need to be the same size."
   ]
  },
  {
   "cell_type": "markdown",
   "id": "59cea094",
   "metadata": {},
   "source": [
    "## Linear Algebra"
   ]
  },
  {
   "cell_type": "code",
   "execution_count": 128,
   "id": "8e9a7c9b",
   "metadata": {},
   "outputs": [
    {
     "name": "stdout",
     "output_type": "stream",
     "text": [
      "Rank of A: 3\n",
      "\n",
      "Trace of A: 11\n",
      "\n",
      "Determinant of A: -306.0\n",
      "\n",
      "Inverse of A:\n",
      " [[ 0.17647059 -0.00326797 -0.02287582]\n",
      " [ 0.05882353 -0.13071895  0.08496732]\n",
      " [-0.11764706  0.1503268   0.05228758]]\n",
      "\n",
      "Matrix A raised to power 3:\n",
      " [[336 162 228]\n",
      " [406 162 469]\n",
      " [698 702 905]]\n"
     ]
    }
   ],
   "source": [
    "import numpy as np\n",
    " \n",
    "A = np.array([[6, 1, 1],\n",
    "              [4, -2, 5],\n",
    "              [2, 8, 7]])\n",
    " \n",
    "print(\"Rank of A:\", np.linalg.matrix_rank(A))\n",
    " \n",
    "print(\"\\nTrace of A:\", np.trace(A))\n",
    " \n",
    "print(\"\\nDeterminant of A:\", np.linalg.det(A))\n",
    " \n",
    "print(\"\\nInverse of A:\\n\", np.linalg.inv(A))\n",
    " \n",
    "print(\"\\nMatrix A raised to power 3:\\n\",\n",
    "           np.linalg.matrix_power(A, 3))"
   ]
  },
  {
   "cell_type": "code",
   "execution_count": 129,
   "id": "ff7cfc33",
   "metadata": {},
   "outputs": [
    {
     "name": "stdout",
     "output_type": "stream",
     "text": [
      "Array is : [[1.+0.j 5.-2.j]\n",
      " [0.+2.j 5.+0.j]]\n",
      "Eigen value is : [-0.22538746-1.55020135j  6.22538746+1.55020135j]\n",
      "Eigen value is : [[ 0.93879343+0.j          0.55137295-0.4358437j ]\n",
      " [-0.09797554-0.33025399j  0.71135655+0.j        ]]\n"
     ]
    }
   ],
   "source": [
    "a = np.array([[1, 5.-2.j], [2j, 5]])\n",
    " \n",
    "print(\"Array is :\",a)\n",
    " \n",
    "c, d = np.linalg.eig(a)\n",
    " \n",
    "print(\"Eigen value is :\", c)\n",
    "print(\"Eigen value is :\", d)"
   ]
  },
  {
   "cell_type": "code",
   "execution_count": 130,
   "id": "3a40664f",
   "metadata": {},
   "outputs": [
    {
     "name": "stdout",
     "output_type": "stream",
     "text": [
      "Dot Product  :  (-7+22j)\n"
     ]
    }
   ],
   "source": [
    "vector_a = 2 + 3j\n",
    "vector_b = 4 + 5j\n",
    " \n",
    "product = np.dot(vector_a, vector_b)\n",
    "print(\"Dot Product  : \", product)"
   ]
  },
  {
   "cell_type": "code",
   "execution_count": 131,
   "id": "039bd9a9",
   "metadata": {},
   "outputs": [
    {
     "name": "stdout",
     "output_type": "stream",
     "text": [
      "('Solution of linear equations:', array([2., 3.]))\n"
     ]
    }
   ],
   "source": [
    "a = np.array([[1, 2], [3, 4]])\n",
    " \n",
    "b = np.array([8, 18])\n",
    " \n",
    "print((\"Solution of linear equations:\", \n",
    "      np.linalg.solve(a, b)))"
   ]
  },
  {
   "cell_type": "markdown",
   "id": "04de1f12",
   "metadata": {},
   "source": [
    "A few other numpy linear algebra operations:\n",
    "    \n",
    "    numpy.dot\n",
    "    numpy.linalg.multi_dot\n",
    "    numpy.vdot\n",
    "    numpy.inner\n",
    "    numpy.outer\n",
    "    numpy.matmul\n",
    "    numpy.tensordot\n",
    "    numpy.einsum\n",
    "    numpy.einsum_path\n",
    "    numpy.linalg.matrix_power\n",
    "    numpy.kron\n",
    "    numpy.einsum\n",
    "    numpy.einsum_path\n",
    "    numpy.linalg.matrix_power\n",
    "    numpy.kron\n",
    "    numpy.linalg.cholesky\n",
    "    numpy.linalg.qr\n",
    "    numpy.linalg.svd\n",
    "    numpy.linalg.eig\n",
    "    numpy.linalg.eigh\n",
    "    numpy.linalg.eigvals\n",
    "    numpy.linalg.eigvalsh\n",
    "    numpy.linalg.norm\n",
    "    numpy.linalg.cond\n",
    "    numpy.linalg.det\n",
    "    numpy.linalg.matrix_rank\n",
    "    numpy.linalg.slogdet\n",
    "    numpy.trace\n",
    "    numpy.linalg.solve\n",
    "    numpy.linalg.tensorsolve\n",
    "    numpy.linalg.lstsq\n",
    "    numpy.linalg.inv\n",
    "    numpy.linalg.pinv\n",
    "    numpy.linalg.tensorinv\n",
    "    numpy.linalg.LinAlgError"
   ]
  },
  {
   "cell_type": "markdown",
   "id": "424d0ece",
   "metadata": {},
   "source": [
    "## Example\n",
    "\n",
    "Modelling the color evolution of a stellar population after a burst of star formation."
   ]
  },
  {
   "cell_type": "code",
   "execution_count": 132,
   "id": "550663ff",
   "metadata": {},
   "outputs": [],
   "source": [
    "import numpy as np\n",
    "import matplotlib.pyplot as plt\n",
    "import scipy.integrate as integrate\n",
    "\n",
    "%matplotlib inline"
   ]
  },
  {
   "cell_type": "code",
   "execution_count": 133,
   "id": "f7db920e",
   "metadata": {},
   "outputs": [],
   "source": [
    "# vector of masses M separated by 0.01 M sun across 0.5-20 M sun\n",
    "M = np.arange(0.5, 20, 0.001)\n",
    "\n",
    "# log vector of ages from 10^6 to 10^10 yr every 1.2589x\n",
    "ages = np.logspace(6, 10.5, 1000)\n",
    "# convert to Gyr\n",
    "ages /= 10**9\n",
    "\n",
    "# Bolometric luminosity in L sun\n",
    "L = M**(3.5)\n",
    "\n",
    "# bolometric magnitude\n",
    "M_bol = -2.5 * np.log10(L) + 4.74 # + bolometric magnitude of the sun\n",
    "\n",
    "# bolometric correction\n",
    "BC = np.piecewise(M, [M >= 1, M < 1], [lambda M: -0.1 - 2.2 * np.log10(M), lambda M: -0.1 + 6.0 * np.log10(M)])            \n",
    "\n",
    "# V band from BC\n",
    "V = M_bol - BC\n",
    "\n",
    "# B - V color index\n",
    "BV = -1.3 * np.log10(M/2.5) + 1.1 * (np.log10(M/2.5))**2\n",
    "\n",
    "# V band from color index\n",
    "B = BV + V\n",
    "\n",
    "# convert B and V back into luminosities\n",
    "LB = 10**((4.74 - B)/2.5)\n",
    "LV = 10**((4.74 - V)/2.5)\n",
    "Lagain = 10**((4.74 - M_bol)/2.5)\n",
    "\n",
    "# lifespan of each star in Gyr\n",
    "tau = 10 * M**(-2.5)\n",
    "\n",
    "# Salpeter IMF\n",
    "IMF = M**(-2.35)\n",
    "\n",
    "factor = integrate.simpson(IMF)\n",
    "IMF = IMF / factor\n",
    "\n",
    "BV_turnoff = np.array([])"
   ]
  },
  {
   "cell_type": "code",
   "execution_count": 134,
   "id": "b35aacfa",
   "metadata": {},
   "outputs": [],
   "source": [
    "# integrate up to turn off point\n",
    "for age in ages:\n",
    "    # which stars are not past turn off time\n",
    "    turn_off = tau > age\n",
    "    # integrate luminosities wrt IMF if there are still stars left\n",
    "    if len(M[turn_off]) != 0:\n",
    "        LB_turnoff = integrate.simpson(LB[turn_off] *  IMF[turn_off], M[turn_off])\n",
    "        LB_turnoff /= integrate.simpson(IMF[turn_off], M[turn_off])\n",
    "        LV_turnoff = integrate.simpson(LV[turn_off] *  IMF[turn_off], M[turn_off])\n",
    "        LV_turnoff /= integrate.simpson(IMF[turn_off], M[turn_off])\n",
    "    else:\n",
    "        LB_turnoff = 0\n",
    "        LV_turnoff = 0\n",
    "    # convert back to magnitudes\n",
    "    B_turnoff = -2.5 * np.log10(LB_turnoff) + 4.74\n",
    "    V_turnoff = -2.5 * np.log10(LV_turnoff) + 4.74\n",
    "    # calculate new B-V\n",
    "    BV_turnoff = np.append(BV_turnoff, B_turnoff - V_turnoff)"
   ]
  },
  {
   "cell_type": "code",
   "execution_count": 135,
   "id": "58fe0385",
   "metadata": {},
   "outputs": [
    {
     "data": {
      "image/png": "[encoded data removed]",
      "text/plain": [
       "<Figure size 432x288 with 1 Axes>"
      ]
     },
     "metadata": {
      "needs_background": "light"
     },
     "output_type": "display_data"
    },
    {
     "name": "stdout",
     "output_type": "stream",
     "text": [
      "The difference in B-V between 100 Myr and 1 Gyr is 0.412.\n",
      "The difference in B-V between 1 Gyr and 10 Gyr is 0.584.\n",
      "The difference in B-V between 10 Gyr and 30 Gyr is 0.392.\n"
     ]
    }
   ],
   "source": [
    "plt.rc('axes', labelsize=14)\n",
    "plt.rc('figure', titlesize=30)\n",
    "plt.rc('xtick', labelsize=12)\n",
    "plt.rc('ytick', labelsize=12)\n",
    "plt.rc('legend', fontsize=12)\n",
    "\n",
    "fig, ax = plt.subplots(1, 1, figsize=(6,4), layout='tight')\n",
    "\n",
    "ax.plot(ages, BV_turnoff, color='deeppink', label='Salpeter IMF')\n",
    "ax.set_xlabel('Age (Gyr)')\n",
    "ax.set_ylabel('Color Index (B-V)')\n",
    "ax.set_title('Color Index vs Cluster Age')\n",
    "ax.tick_params(axis='both', direction='in', which='both')\n",
    "ax.set_xscale('log')\n",
    "ax.legend(loc = 'upper left')\n",
    "fig.tight_layout()\n",
    "plt.show()\n",
    "\n",
    "Myr_100_BV = BV_turnoff[(ages>0.099) & (ages<0.101)][0]\n",
    "Gyr_1_BV = BV_turnoff[(ages>0.99) & (ages<1.01)][0]\n",
    "Gyr_10_BV = BV_turnoff[(ages>9.9) & (ages<10.1)][0]\n",
    "Gyr_30_BV = BV_turnoff[(ages>29.9) & (ages<30.1)][0]\n",
    "\n",
    "print('The difference in B-V between 100 Myr and 1 Gyr is {:.3f}.'.format(Gyr_1_BV - Myr_100_BV ))\n",
    "print('The difference in B-V between 1 Gyr and 10 Gyr is {:.3f}.'.format(Gyr_10_BV - Gyr_1_BV))\n",
    "print('The difference in B-V between 10 Gyr and 30 Gyr is {:.3f}.'.format(Gyr_30_BV - Gyr_10_BV))"
   ]
  },
  {
   "cell_type": "markdown",
   "id": "676f090d",
   "metadata": {},
   "source": [
    "# References"
   ]
  },
  {
   "cell_type": "markdown",
   "id": "08abaa69",
   "metadata": {},
   "source": [
    "Very in depth astronomy use case for Python. Dives straight in.\n",
    "https://python4astronomers.github.io/index.html\n",
    "\n",
    "More top level beginner accessible tutorial.\n",
    "https://github.com/HorizonIITM/PythonForAstronomy\n",
    "\n",
    "Absolute numpy beginner tutorial.\n",
    "https://numpy.org/doc/stable/user/absolute_beginners.html\n",
    "\n",
    "In depth Python 3 introductory bootcamp.\n",
    "https://github.com/Pierian-Data/Complete-Python-3-Bootcamp\n",
    "\n",
    "Python Cheatsheet.\n",
    "https://gto76.github.io/python-cheatsheet/\n",
    "\n",
    "Astropy built-in tutorials.\n",
    "https://learn.astropy.org/\n",
    "\n",
    "Scipy tutorials.\n",
    "https://docs.scipy.org/doc/scipy/tutorial/"
   ]
  }
 ],
 "metadata": {
  "kernelspec": {
   "display_name": "Python 3 (ipykernel)",
   "language": "python",
   "name": "python3"
  },
  "language_info": {
   "codemirror_mode": {
    "name": "ipython",
    "version": 3
   },
   "file_extension": ".py",
   "mimetype": "text/x-python",
   "name": "python",
   "nbconvert_exporter": "python",
   "pygments_lexer": "ipython3",
   "version": "3.9.12"
  }
 },
 "nbformat": 4,
 "nbformat_minor": 5
}
