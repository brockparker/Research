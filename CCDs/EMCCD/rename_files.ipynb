{
 "cells": [
  {
   "cell_type": "code",
   "execution_count": 2,
   "metadata": {},
   "outputs": [],
   "source": [
    "import glob\n",
    "import os"
   ]
  },
  {
   "cell_type": "code",
   "execution_count": 3,
   "metadata": {},
   "outputs": [],
   "source": [
    "base_dir = r'C:\\Users\\Brock\\Documents\\Git\\Research\\CCDs\\EMCCD\\Data\\warmup_darks_vss1_11132024'\n",
    "\n",
    "files = glob.glob(base_dir + '\\*.fits.Z')\n",
    "\n",
    "for file in files:\n",
    "    new_file = file.replace('.fits.Z', '.fits')\n",
    "    os.rename(file, new_file)"
   ]
  }
 ],
 "metadata": {
  "kernelspec": {
   "display_name": "base",
   "language": "python",
   "name": "python3"
  },
  "language_info": {
   "codemirror_mode": {
    "name": "ipython",
    "version": 3
   },
   "file_extension": ".py",
   "mimetype": "text/x-python",
   "name": "python",
   "nbconvert_exporter": "python",
   "pygments_lexer": "ipython3",
   "version": "3.11.4"
  }
 },
 "nbformat": 4,
 "nbformat_minor": 2
}
